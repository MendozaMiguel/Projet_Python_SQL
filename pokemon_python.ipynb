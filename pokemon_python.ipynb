{
 "cells": [
  {
   "cell_type": "code",
<<<<<<< Updated upstream
   "execution_count": 78,
=======
   "execution_count": 2,
>>>>>>> Stashed changes
   "metadata": {},
   "outputs": [],
   "source": [
    "import os"
   ]
  },
  {
   "cell_type": "code",
<<<<<<< Updated upstream
   "execution_count": 79,
=======
   "execution_count": 3,
>>>>>>> Stashed changes
   "metadata": {},
   "outputs": [
    {
     "data": {
      "text/plain": [
       "'C:\\\\Users\\\\Administrateur\\\\Desktop\\\\PROJET POKEMON !!'"
      ]
     },
<<<<<<< Updated upstream
     "execution_count": 79,
=======
     "execution_count": 3,
>>>>>>> Stashed changes
     "metadata": {},
     "output_type": "execute_result"
    }
   ],
   "source": [
    "os.getcwd()"
   ]
  },
  {
   "cell_type": "code",
   "execution_count": 4,
   "metadata": {},
   "outputs": [],
   "source": [
    "os.chdir(r'C:\\Users\\Administrateur\\Desktop\\PROJET POKEMON !!')"
   ]
  },
  {
   "cell_type": "code",
   "execution_count": 5,
   "metadata": {},
   "outputs": [
    {
     "data": {
      "text/plain": [
       "'C:\\\\Users\\\\Administrateur\\\\Desktop\\\\PROJET POKEMON !!'"
      ]
     },
     "execution_count": 5,
     "metadata": {},
     "output_type": "execute_result"
    }
   ],
   "source": [
    "os.getcwd()"
   ]
  },
  {
   "cell_type": "code",
   "execution_count": 6,
   "metadata": {},
   "outputs": [],
   "source": [
    "import pandas as pd"
   ]
  },
  {
   "cell_type": "code",
   "execution_count": 6,
   "metadata": {},
   "outputs": [],
   "source": [
    "# names=['id_pokemon','nom_pokemon','Name', 'taille', 'poids', 'Pre-Test Score', 'Points de vie de base','Attaque de base','Défense de base','Attaque spéciale de base','Défense spéciale de base','Vitesse de base']"
   ]
  },
  {
   "cell_type": "markdown",
   "metadata": {},
   "source": [
    "# Lecture du CSV"
   ]
  },
  {
   "cell_type": "code",
<<<<<<< Updated upstream
   "execution_count": 6,
=======
   "execution_count": 7,
>>>>>>> Stashed changes
   "metadata": {},
   "outputs": [],
   "source": [
    "df_csv = pd.read_csv('pokemon.csv')"
   ]
  },
  {
   "cell_type": "code",
<<<<<<< Updated upstream
   "execution_count": 7,
=======
   "execution_count": 8,
>>>>>>> Stashed changes
   "metadata": {},
   "outputs": [
    {
     "data": {
      "text/html": [
       "<div>\n",
       "<style scoped>\n",
       "    .dataframe tbody tr th:only-of-type {\n",
       "        vertical-align: middle;\n",
       "    }\n",
       "\n",
       "    .dataframe tbody tr th {\n",
       "        vertical-align: top;\n",
       "    }\n",
       "\n",
       "    .dataframe thead th {\n",
       "        text-align: right;\n",
       "    }\n",
       "</style>\n",
       "<table border=\"1\" class=\"dataframe\">\n",
       "  <thead>\n",
       "    <tr style=\"text-align: left;\">\n",
       "      <th></th>\n",
       "      <th>web-scraper-order</th>\n",
       "      <th>web-scraper-start-url</th>\n",
       "      <th>pokemon_normaux</th>\n",
       "      <th>pokemon_normaux-href</th>\n",
       "      <th>id_pokemon</th>\n",
       "      <th>nom_pokemon</th>\n",
       "      <th>taille</th>\n",
       "      <th>poids</th>\n",
       "      <th>Points de vie de base</th>\n",
       "      <th>Attaque de base</th>\n",
       "      <th>Défense de base</th>\n",
       "      <th>Attaque spéciale de base</th>\n",
       "      <th>Défense spéciale de base</th>\n",
       "      <th>Vitesse de base</th>\n",
       "      <th>Type_pokemon1-src</th>\n",
       "    </tr>\n",
       "  </thead>\n",
       "  <tbody>\n",
       "    <tr>\n",
       "      <th>0</th>\n",
       "      <td>153053...</td>\n",
       "      <td>https:...</td>\n",
       "      <td>Regice</td>\n",
       "      <td>https:...</td>\n",
       "      <td>#378</td>\n",
       "      <td>Regice</td>\n",
       "      <td>1.8 m</td>\n",
       "      <td>175 kg</td>\n",
       "      <td>80</td>\n",
       "      <td>50</td>\n",
       "      <td>100</td>\n",
       "      <td>100</td>\n",
       "      <td>200</td>\n",
       "      <td>50</td>\n",
       "      <td>https:...</td>\n",
       "    </tr>\n",
       "    <tr>\n",
       "      <th>1</th>\n",
       "      <td>153053...</td>\n",
       "      <td>https:...</td>\n",
       "      <td>Maganon</td>\n",
       "      <td>https:...</td>\n",
       "      <td>#467</td>\n",
       "      <td>Maganon</td>\n",
       "      <td>1.6 m</td>\n",
       "      <td>68 kg</td>\n",
       "      <td>75</td>\n",
       "      <td>95</td>\n",
       "      <td>67</td>\n",
       "      <td>125</td>\n",
       "      <td>95</td>\n",
       "      <td>83</td>\n",
       "      <td>https:...</td>\n",
       "    </tr>\n",
       "    <tr>\n",
       "      <th>2</th>\n",
       "      <td>153053...</td>\n",
       "      <td>https:...</td>\n",
       "      <td>Excava...</td>\n",
       "      <td>https:...</td>\n",
       "      <td>#660</td>\n",
       "      <td>Excava...</td>\n",
       "      <td>1 m</td>\n",
       "      <td>42.4 kg</td>\n",
       "      <td>85</td>\n",
       "      <td>56</td>\n",
       "      <td>77</td>\n",
       "      <td>50</td>\n",
       "      <td>77</td>\n",
       "      <td>78</td>\n",
       "      <td>https:...</td>\n",
       "    </tr>\n",
       "    <tr>\n",
       "      <th>3</th>\n",
       "      <td>153053...</td>\n",
       "      <td>https:...</td>\n",
       "      <td>Sepiatop</td>\n",
       "      <td>https:...</td>\n",
       "      <td>#686</td>\n",
       "      <td>Sepiatop</td>\n",
       "      <td>0.4 m</td>\n",
       "      <td>3.5 kg</td>\n",
       "      <td>53</td>\n",
       "      <td>54</td>\n",
       "      <td>53</td>\n",
       "      <td>37</td>\n",
       "      <td>46</td>\n",
       "      <td>45</td>\n",
       "      <td>https:...</td>\n",
       "    </tr>\n",
       "    <tr>\n",
       "      <th>4</th>\n",
       "      <td>153053...</td>\n",
       "      <td>https:...</td>\n",
       "      <td>Métalosse</td>\n",
       "      <td>https:...</td>\n",
       "      <td>#376</td>\n",
       "      <td>Métalosse</td>\n",
       "      <td>1.6 m</td>\n",
       "      <td>550 kg</td>\n",
       "      <td>80</td>\n",
       "      <td>135</td>\n",
       "      <td>130</td>\n",
       "      <td>95</td>\n",
       "      <td>90</td>\n",
       "      <td>70</td>\n",
       "      <td>https:...</td>\n",
       "    </tr>\n",
       "    <tr>\n",
       "      <th>...</th>\n",
       "      <td>...</td>\n",
       "      <td>...</td>\n",
       "      <td>...</td>\n",
       "      <td>...</td>\n",
       "      <td>...</td>\n",
       "      <td>...</td>\n",
       "      <td>...</td>\n",
       "      <td>...</td>\n",
       "      <td>...</td>\n",
       "      <td>...</td>\n",
       "      <td>...</td>\n",
       "      <td>...</td>\n",
       "      <td>...</td>\n",
       "      <td>...</td>\n",
       "      <td>...</td>\n",
       "    </tr>\n",
       "    <tr>\n",
       "      <th>1196</th>\n",
       "      <td>153053...</td>\n",
       "      <td>https:...</td>\n",
       "      <td>Yanma</td>\n",
       "      <td>https:...</td>\n",
       "      <td>#193</td>\n",
       "      <td>Yanma</td>\n",
       "      <td>1.2 m</td>\n",
       "      <td>38 kg</td>\n",
       "      <td>65</td>\n",
       "      <td>65</td>\n",
       "      <td>45</td>\n",
       "      <td>75</td>\n",
       "      <td>45</td>\n",
       "      <td>95</td>\n",
       "      <td>https:...</td>\n",
       "    </tr>\n",
       "    <tr>\n",
       "      <th>1197</th>\n",
       "      <td>153053...</td>\n",
       "      <td>https:...</td>\n",
       "      <td>Créhelf</td>\n",
       "      <td>https:...</td>\n",
       "      <td>#480</td>\n",
       "      <td>Créhelf</td>\n",
       "      <td>0.3 m</td>\n",
       "      <td>0.3 kg</td>\n",
       "      <td>75</td>\n",
       "      <td>75</td>\n",
       "      <td>130</td>\n",
       "      <td>75</td>\n",
       "      <td>130</td>\n",
       "      <td>95</td>\n",
       "      <td>https:...</td>\n",
       "    </tr>\n",
       "    <tr>\n",
       "      <th>1198</th>\n",
       "      <td>153053...</td>\n",
       "      <td>https:...</td>\n",
       "      <td>Bazoucan</td>\n",
       "      <td>https:...</td>\n",
       "      <td>#733</td>\n",
       "      <td>Bazoucan</td>\n",
       "      <td>1.1 m</td>\n",
       "      <td>26 kg</td>\n",
       "      <td>80</td>\n",
       "      <td>120</td>\n",
       "      <td>75</td>\n",
       "      <td>75</td>\n",
       "      <td>75</td>\n",
       "      <td>60</td>\n",
       "      <td>https:...</td>\n",
       "    </tr>\n",
       "    <tr>\n",
       "      <th>1199</th>\n",
       "      <td>153053...</td>\n",
       "      <td>https:...</td>\n",
       "      <td>Matelo...</td>\n",
       "      <td>https:...</td>\n",
       "      <td>#502</td>\n",
       "      <td>Matelo...</td>\n",
       "      <td>0.8 m</td>\n",
       "      <td>24.5 kg</td>\n",
       "      <td>75</td>\n",
       "      <td>75</td>\n",
       "      <td>60</td>\n",
       "      <td>83</td>\n",
       "      <td>60</td>\n",
       "      <td>60</td>\n",
       "      <td>https:...</td>\n",
       "    </tr>\n",
       "    <tr>\n",
       "      <th>1200</th>\n",
       "      <td>153053...</td>\n",
       "      <td>https:...</td>\n",
       "      <td>Farfad...</td>\n",
       "      <td>https:...</td>\n",
       "      <td>#547</td>\n",
       "      <td>Farfad...</td>\n",
       "      <td>0.7 m</td>\n",
       "      <td>6.6 kg</td>\n",
       "      <td>60</td>\n",
       "      <td>67</td>\n",
       "      <td>85</td>\n",
       "      <td>77</td>\n",
       "      <td>75</td>\n",
       "      <td>116</td>\n",
       "      <td>https:...</td>\n",
       "    </tr>\n",
       "  </tbody>\n",
       "</table>\n",
       "<p>1201 rows × 15 columns</p>\n",
       "</div>"
      ],
      "text/plain": [
       "     web-scraper-order web-scraper-start-url pokemon_normaux pokemon_normaux-href id_pokemon nom_pokemon taille poids     Points de vie de base  Attaque de base  Défense de base  Attaque spéciale de base  Défense spéciale de base  Vitesse de base Type_pokemon1-src\n",
       "0     153053...         https:...                Regice       https:...            #378          Regice   1.8 m   175 kg  80                      50              100              100                       200                        50              https:...       \n",
       "1     153053...         https:...               Maganon       https:...            #467         Maganon   1.6 m    68 kg  75                      95               67              125                        95                        83              https:...       \n",
       "2     153053...         https:...             Excava...       https:...            #660       Excava...     1 m  42.4 kg  85                      56               77               50                        77                        78              https:...       \n",
       "3     153053...         https:...              Sepiatop       https:...            #686        Sepiatop   0.4 m   3.5 kg  53                      54               53               37                        46                        45              https:...       \n",
       "4     153053...         https:...             Métalosse       https:...            #376       Métalosse   1.6 m   550 kg  80                     135              130               95                        90                        70              https:...       \n",
       "...         ...               ...                   ...             ...                  ...        ...     ...      ...        ...                    ...              ...              ...                       ...                       ...              ...       \n",
       "1196  153053...         https:...                 Yanma       https:...            #193           Yanma   1.2 m    38 kg  65                      65               45               75                        45                        95              https:...       \n",
       "1197  153053...         https:...               Créhelf       https:...            #480         Créhelf   0.3 m   0.3 kg  75                      75              130               75                       130                        95              https:...       \n",
       "1198  153053...         https:...              Bazoucan       https:...            #733        Bazoucan   1.1 m    26 kg  80                     120               75               75                        75                        60              https:...       \n",
       "1199  153053...         https:...             Matelo...       https:...            #502       Matelo...   0.8 m  24.5 kg  75                      75               60               83                        60                        60              https:...       \n",
       "1200  153053...         https:...             Farfad...       https:...            #547       Farfad...   0.7 m   6.6 kg  60                      67               85               77                        75                       116              https:...       \n",
       "\n",
       "[1201 rows x 15 columns]"
      ]
     },
<<<<<<< Updated upstream
     "execution_count": 7,
=======
     "execution_count": 8,
>>>>>>> Stashed changes
     "metadata": {},
     "output_type": "execute_result"
    }
   ],
   "source": [
    "df_csv"
   ]
  },
  {
   "cell_type": "markdown",
   "metadata": {},
   "source": [
    "# Nettoyage du csv"
   ]
  },
  {
   "cell_type": "code",
<<<<<<< Updated upstream
   "execution_count": 8,
=======
   "execution_count": 9,
>>>>>>> Stashed changes
   "metadata": {},
   "outputs": [],
   "source": [
    "df=df_csv[['id_pokemon','nom_pokemon', 'taille', 'poids', 'Points de vie de base','Attaque de base','Défense de base','Attaque spéciale de base','Défense spéciale de base','Vitesse de base','Type_pokemon1-src']]"
   ]
  },
  {
   "cell_type": "code",
<<<<<<< Updated upstream
   "execution_count": 9,
=======
   "execution_count": 10,
>>>>>>> Stashed changes
   "metadata": {},
   "outputs": [
    {
     "data": {
      "text/html": [
       "<div>\n",
       "<style scoped>\n",
       "    .dataframe tbody tr th:only-of-type {\n",
       "        vertical-align: middle;\n",
       "    }\n",
       "\n",
       "    .dataframe tbody tr th {\n",
       "        vertical-align: top;\n",
       "    }\n",
       "\n",
       "    .dataframe thead th {\n",
       "        text-align: right;\n",
       "    }\n",
       "</style>\n",
       "<table border=\"1\" class=\"dataframe\">\n",
       "  <thead>\n",
       "    <tr style=\"text-align: left;\">\n",
       "      <th></th>\n",
       "      <th>id_pokemon</th>\n",
       "      <th>nom_pokemon</th>\n",
       "      <th>taille</th>\n",
       "      <th>poids</th>\n",
       "      <th>Points de vie de base</th>\n",
       "      <th>Attaque de base</th>\n",
       "      <th>Défense de base</th>\n",
       "      <th>Attaque spéciale de base</th>\n",
       "      <th>Défense spéciale de base</th>\n",
       "      <th>Vitesse de base</th>\n",
       "      <th>Type_pokemon1-src</th>\n",
       "    </tr>\n",
       "  </thead>\n",
       "  <tbody>\n",
       "    <tr>\n",
       "      <th>0</th>\n",
       "      <td>#378</td>\n",
       "      <td>Regice</td>\n",
       "      <td>1.8 m</td>\n",
       "      <td>175 kg</td>\n",
       "      <td>80</td>\n",
       "      <td>50</td>\n",
       "      <td>100</td>\n",
       "      <td>100</td>\n",
       "      <td>200</td>\n",
       "      <td>50</td>\n",
       "      <td>https:...</td>\n",
       "    </tr>\n",
       "    <tr>\n",
       "      <th>1</th>\n",
       "      <td>#467</td>\n",
       "      <td>Maganon</td>\n",
       "      <td>1.6 m</td>\n",
       "      <td>68 kg</td>\n",
       "      <td>75</td>\n",
       "      <td>95</td>\n",
       "      <td>67</td>\n",
       "      <td>125</td>\n",
       "      <td>95</td>\n",
       "      <td>83</td>\n",
       "      <td>https:...</td>\n",
       "    </tr>\n",
       "    <tr>\n",
       "      <th>2</th>\n",
       "      <td>#660</td>\n",
       "      <td>Excava...</td>\n",
       "      <td>1 m</td>\n",
       "      <td>42.4 kg</td>\n",
       "      <td>85</td>\n",
       "      <td>56</td>\n",
       "      <td>77</td>\n",
       "      <td>50</td>\n",
       "      <td>77</td>\n",
       "      <td>78</td>\n",
       "      <td>https:...</td>\n",
       "    </tr>\n",
       "    <tr>\n",
       "      <th>3</th>\n",
       "      <td>#686</td>\n",
       "      <td>Sepiatop</td>\n",
       "      <td>0.4 m</td>\n",
       "      <td>3.5 kg</td>\n",
       "      <td>53</td>\n",
       "      <td>54</td>\n",
       "      <td>53</td>\n",
       "      <td>37</td>\n",
       "      <td>46</td>\n",
       "      <td>45</td>\n",
       "      <td>https:...</td>\n",
       "    </tr>\n",
       "    <tr>\n",
       "      <th>4</th>\n",
       "      <td>#376</td>\n",
       "      <td>Métalosse</td>\n",
       "      <td>1.6 m</td>\n",
       "      <td>550 kg</td>\n",
       "      <td>80</td>\n",
       "      <td>135</td>\n",
       "      <td>130</td>\n",
       "      <td>95</td>\n",
       "      <td>90</td>\n",
       "      <td>70</td>\n",
       "      <td>https:...</td>\n",
       "    </tr>\n",
       "    <tr>\n",
       "      <th>...</th>\n",
       "      <td>...</td>\n",
       "      <td>...</td>\n",
       "      <td>...</td>\n",
       "      <td>...</td>\n",
       "      <td>...</td>\n",
       "      <td>...</td>\n",
       "      <td>...</td>\n",
       "      <td>...</td>\n",
       "      <td>...</td>\n",
       "      <td>...</td>\n",
       "      <td>...</td>\n",
       "    </tr>\n",
       "    <tr>\n",
       "      <th>1196</th>\n",
       "      <td>#193</td>\n",
       "      <td>Yanma</td>\n",
       "      <td>1.2 m</td>\n",
       "      <td>38 kg</td>\n",
       "      <td>65</td>\n",
       "      <td>65</td>\n",
       "      <td>45</td>\n",
       "      <td>75</td>\n",
       "      <td>45</td>\n",
       "      <td>95</td>\n",
       "      <td>https:...</td>\n",
       "    </tr>\n",
       "    <tr>\n",
       "      <th>1197</th>\n",
       "      <td>#480</td>\n",
       "      <td>Créhelf</td>\n",
       "      <td>0.3 m</td>\n",
       "      <td>0.3 kg</td>\n",
       "      <td>75</td>\n",
       "      <td>75</td>\n",
       "      <td>130</td>\n",
       "      <td>75</td>\n",
       "      <td>130</td>\n",
       "      <td>95</td>\n",
       "      <td>https:...</td>\n",
       "    </tr>\n",
       "    <tr>\n",
       "      <th>1198</th>\n",
       "      <td>#733</td>\n",
       "      <td>Bazoucan</td>\n",
       "      <td>1.1 m</td>\n",
       "      <td>26 kg</td>\n",
       "      <td>80</td>\n",
       "      <td>120</td>\n",
       "      <td>75</td>\n",
       "      <td>75</td>\n",
       "      <td>75</td>\n",
       "      <td>60</td>\n",
       "      <td>https:...</td>\n",
       "    </tr>\n",
       "    <tr>\n",
       "      <th>1199</th>\n",
       "      <td>#502</td>\n",
       "      <td>Matelo...</td>\n",
       "      <td>0.8 m</td>\n",
       "      <td>24.5 kg</td>\n",
       "      <td>75</td>\n",
       "      <td>75</td>\n",
       "      <td>60</td>\n",
       "      <td>83</td>\n",
       "      <td>60</td>\n",
       "      <td>60</td>\n",
       "      <td>https:...</td>\n",
       "    </tr>\n",
       "    <tr>\n",
       "      <th>1200</th>\n",
       "      <td>#547</td>\n",
       "      <td>Farfad...</td>\n",
       "      <td>0.7 m</td>\n",
       "      <td>6.6 kg</td>\n",
       "      <td>60</td>\n",
       "      <td>67</td>\n",
       "      <td>85</td>\n",
       "      <td>77</td>\n",
       "      <td>75</td>\n",
       "      <td>116</td>\n",
       "      <td>https:...</td>\n",
       "    </tr>\n",
       "  </tbody>\n",
       "</table>\n",
       "<p>1201 rows × 11 columns</p>\n",
       "</div>"
      ],
      "text/plain": [
       "     id_pokemon nom_pokemon taille poids     Points de vie de base  Attaque de base  Défense de base  Attaque spéciale de base  Défense spéciale de base  Vitesse de base Type_pokemon1-src\n",
       "0     #378          Regice   1.8 m   175 kg  80                      50              100              100                       200                        50              https:...       \n",
       "1     #467         Maganon   1.6 m    68 kg  75                      95               67              125                        95                        83              https:...       \n",
       "2     #660       Excava...     1 m  42.4 kg  85                      56               77               50                        77                        78              https:...       \n",
       "3     #686        Sepiatop   0.4 m   3.5 kg  53                      54               53               37                        46                        45              https:...       \n",
       "4     #376       Métalosse   1.6 m   550 kg  80                     135              130               95                        90                        70              https:...       \n",
       "...         ...        ...     ...      ...        ...                    ...              ...              ...                       ...                       ...              ...       \n",
       "1196  #193           Yanma   1.2 m    38 kg  65                      65               45               75                        45                        95              https:...       \n",
       "1197  #480         Créhelf   0.3 m   0.3 kg  75                      75              130               75                       130                        95              https:...       \n",
       "1198  #733        Bazoucan   1.1 m    26 kg  80                     120               75               75                        75                        60              https:...       \n",
       "1199  #502       Matelo...   0.8 m  24.5 kg  75                      75               60               83                        60                        60              https:...       \n",
       "1200  #547       Farfad...   0.7 m   6.6 kg  60                      67               85               77                        75                       116              https:...       \n",
       "\n",
       "[1201 rows x 11 columns]"
      ]
     },
<<<<<<< Updated upstream
     "execution_count": 9,
=======
     "execution_count": 10,
>>>>>>> Stashed changes
     "metadata": {},
     "output_type": "execute_result"
    }
   ],
   "source": [
    "df.sort_index()"
   ]
  },
  {
   "cell_type": "code",
   "execution_count": 10,
   "metadata": {},
   "outputs": [],
   "source": [
    "# df['poids'].str.extract('(\\d+)').astype(int)"
   ]
  },
  {
   "cell_type": "code",
<<<<<<< Updated upstream
   "execution_count": 11,
=======
   "execution_count": 12,
>>>>>>> Stashed changes
   "metadata": {},
   "outputs": [
    {
     "name": "stderr",
     "output_type": "stream",
     "text": [
      "C:\\Users\\Administrateur\\Miniconda3\\lib\\site-packages\\ipykernel_launcher.py:1: SettingWithCopyWarning: \n",
      "A value is trying to be set on a copy of a slice from a DataFrame.\n",
      "Try using .loc[row_indexer,col_indexer] = value instead\n",
      "\n",
      "See the caveats in the documentation: http://pandas.pydata.org/pandas-docs/stable/indexing.html#indexing-view-versus-copy\n",
      "  \"\"\"Entry point for launching an IPython kernel.\n"
     ]
    }
   ],
   "source": [
    "df['id_pokemon'] = df['id_pokemon'].map(lambda x: x.lstrip('#'))"
   ]
  },
  {
   "cell_type": "code",
<<<<<<< Updated upstream
   "execution_count": 12,
=======
   "execution_count": 13,
>>>>>>> Stashed changes
   "metadata": {},
   "outputs": [
    {
     "data": {
      "text/html": [
       "<div>\n",
       "<style scoped>\n",
       "    .dataframe tbody tr th:only-of-type {\n",
       "        vertical-align: middle;\n",
       "    }\n",
       "\n",
       "    .dataframe tbody tr th {\n",
       "        vertical-align: top;\n",
       "    }\n",
       "\n",
       "    .dataframe thead th {\n",
       "        text-align: right;\n",
       "    }\n",
       "</style>\n",
       "<table border=\"1\" class=\"dataframe\">\n",
       "  <thead>\n",
       "    <tr style=\"text-align: left;\">\n",
       "      <th></th>\n",
       "      <th>id_pokemon</th>\n",
       "      <th>nom_pokemon</th>\n",
       "      <th>taille</th>\n",
       "      <th>poids</th>\n",
       "      <th>Points de vie de base</th>\n",
       "      <th>Attaque de base</th>\n",
       "      <th>Défense de base</th>\n",
       "      <th>Attaque spéciale de base</th>\n",
       "      <th>Défense spéciale de base</th>\n",
       "      <th>Vitesse de base</th>\n",
       "      <th>Type_pokemon1-src</th>\n",
       "    </tr>\n",
       "  </thead>\n",
       "  <tbody>\n",
       "    <tr>\n",
       "      <th>0</th>\n",
       "      <td>378</td>\n",
       "      <td>Regice</td>\n",
       "      <td>1.8 m</td>\n",
       "      <td>175 kg</td>\n",
       "      <td>80</td>\n",
       "      <td>50</td>\n",
       "      <td>100</td>\n",
       "      <td>100</td>\n",
       "      <td>200</td>\n",
       "      <td>50</td>\n",
       "      <td>https:...</td>\n",
       "    </tr>\n",
       "    <tr>\n",
       "      <th>1</th>\n",
       "      <td>467</td>\n",
       "      <td>Maganon</td>\n",
       "      <td>1.6 m</td>\n",
       "      <td>68 kg</td>\n",
       "      <td>75</td>\n",
       "      <td>95</td>\n",
       "      <td>67</td>\n",
       "      <td>125</td>\n",
       "      <td>95</td>\n",
       "      <td>83</td>\n",
       "      <td>https:...</td>\n",
       "    </tr>\n",
       "    <tr>\n",
       "      <th>2</th>\n",
       "      <td>660</td>\n",
       "      <td>Excava...</td>\n",
       "      <td>1 m</td>\n",
       "      <td>42.4 kg</td>\n",
       "      <td>85</td>\n",
       "      <td>56</td>\n",
       "      <td>77</td>\n",
       "      <td>50</td>\n",
       "      <td>77</td>\n",
       "      <td>78</td>\n",
       "      <td>https:...</td>\n",
       "    </tr>\n",
       "    <tr>\n",
       "      <th>3</th>\n",
       "      <td>686</td>\n",
       "      <td>Sepiatop</td>\n",
       "      <td>0.4 m</td>\n",
       "      <td>3.5 kg</td>\n",
       "      <td>53</td>\n",
       "      <td>54</td>\n",
       "      <td>53</td>\n",
       "      <td>37</td>\n",
       "      <td>46</td>\n",
       "      <td>45</td>\n",
       "      <td>https:...</td>\n",
       "    </tr>\n",
       "    <tr>\n",
       "      <th>4</th>\n",
       "      <td>376</td>\n",
       "      <td>Métalosse</td>\n",
       "      <td>1.6 m</td>\n",
       "      <td>550 kg</td>\n",
       "      <td>80</td>\n",
       "      <td>135</td>\n",
       "      <td>130</td>\n",
       "      <td>95</td>\n",
       "      <td>90</td>\n",
       "      <td>70</td>\n",
       "      <td>https:...</td>\n",
       "    </tr>\n",
       "    <tr>\n",
       "      <th>...</th>\n",
       "      <td>...</td>\n",
       "      <td>...</td>\n",
       "      <td>...</td>\n",
       "      <td>...</td>\n",
       "      <td>...</td>\n",
       "      <td>...</td>\n",
       "      <td>...</td>\n",
       "      <td>...</td>\n",
       "      <td>...</td>\n",
       "      <td>...</td>\n",
       "      <td>...</td>\n",
       "    </tr>\n",
       "    <tr>\n",
       "      <th>1196</th>\n",
       "      <td>193</td>\n",
       "      <td>Yanma</td>\n",
       "      <td>1.2 m</td>\n",
       "      <td>38 kg</td>\n",
       "      <td>65</td>\n",
       "      <td>65</td>\n",
       "      <td>45</td>\n",
       "      <td>75</td>\n",
       "      <td>45</td>\n",
       "      <td>95</td>\n",
       "      <td>https:...</td>\n",
       "    </tr>\n",
       "    <tr>\n",
       "      <th>1197</th>\n",
       "      <td>480</td>\n",
       "      <td>Créhelf</td>\n",
       "      <td>0.3 m</td>\n",
       "      <td>0.3 kg</td>\n",
       "      <td>75</td>\n",
       "      <td>75</td>\n",
       "      <td>130</td>\n",
       "      <td>75</td>\n",
       "      <td>130</td>\n",
       "      <td>95</td>\n",
       "      <td>https:...</td>\n",
       "    </tr>\n",
       "    <tr>\n",
       "      <th>1198</th>\n",
       "      <td>733</td>\n",
       "      <td>Bazoucan</td>\n",
       "      <td>1.1 m</td>\n",
       "      <td>26 kg</td>\n",
       "      <td>80</td>\n",
       "      <td>120</td>\n",
       "      <td>75</td>\n",
       "      <td>75</td>\n",
       "      <td>75</td>\n",
       "      <td>60</td>\n",
       "      <td>https:...</td>\n",
       "    </tr>\n",
       "    <tr>\n",
       "      <th>1199</th>\n",
       "      <td>502</td>\n",
       "      <td>Matelo...</td>\n",
       "      <td>0.8 m</td>\n",
       "      <td>24.5 kg</td>\n",
       "      <td>75</td>\n",
       "      <td>75</td>\n",
       "      <td>60</td>\n",
       "      <td>83</td>\n",
       "      <td>60</td>\n",
       "      <td>60</td>\n",
       "      <td>https:...</td>\n",
       "    </tr>\n",
       "    <tr>\n",
       "      <th>1200</th>\n",
       "      <td>547</td>\n",
       "      <td>Farfad...</td>\n",
       "      <td>0.7 m</td>\n",
       "      <td>6.6 kg</td>\n",
       "      <td>60</td>\n",
       "      <td>67</td>\n",
       "      <td>85</td>\n",
       "      <td>77</td>\n",
       "      <td>75</td>\n",
       "      <td>116</td>\n",
       "      <td>https:...</td>\n",
       "    </tr>\n",
       "  </tbody>\n",
       "</table>\n",
       "<p>1201 rows × 11 columns</p>\n",
       "</div>"
      ],
      "text/plain": [
       "     id_pokemon nom_pokemon taille poids     Points de vie de base  Attaque de base  Défense de base  Attaque spéciale de base  Défense spéciale de base  Vitesse de base Type_pokemon1-src\n",
       "0     378           Regice   1.8 m   175 kg  80                      50              100              100                       200                        50              https:...       \n",
       "1     467          Maganon   1.6 m    68 kg  75                      95               67              125                        95                        83              https:...       \n",
       "2     660        Excava...     1 m  42.4 kg  85                      56               77               50                        77                        78              https:...       \n",
       "3     686         Sepiatop   0.4 m   3.5 kg  53                      54               53               37                        46                        45              https:...       \n",
       "4     376        Métalosse   1.6 m   550 kg  80                     135              130               95                        90                        70              https:...       \n",
       "...         ...        ...     ...      ...        ...                    ...              ...              ...                       ...                       ...              ...       \n",
       "1196  193            Yanma   1.2 m    38 kg  65                      65               45               75                        45                        95              https:...       \n",
       "1197  480          Créhelf   0.3 m   0.3 kg  75                      75              130               75                       130                        95              https:...       \n",
       "1198  733         Bazoucan   1.1 m    26 kg  80                     120               75               75                        75                        60              https:...       \n",
       "1199  502        Matelo...   0.8 m  24.5 kg  75                      75               60               83                        60                        60              https:...       \n",
       "1200  547        Farfad...   0.7 m   6.6 kg  60                      67               85               77                        75                       116              https:...       \n",
       "\n",
       "[1201 rows x 11 columns]"
      ]
     },
<<<<<<< Updated upstream
     "execution_count": 12,
=======
     "execution_count": 13,
>>>>>>> Stashed changes
     "metadata": {},
     "output_type": "execute_result"
    }
   ],
   "source": [
    "df"
   ]
  },
  {
   "cell_type": "code",
<<<<<<< Updated upstream
   "execution_count": 13,
=======
   "execution_count": 14,
>>>>>>> Stashed changes
   "metadata": {},
   "outputs": [
    {
     "name": "stderr",
     "output_type": "stream",
     "text": [
      "C:\\Users\\Administrateur\\Miniconda3\\lib\\site-packages\\ipykernel_launcher.py:1: SettingWithCopyWarning: \n",
      "A value is trying to be set on a copy of a slice from a DataFrame.\n",
      "Try using .loc[row_indexer,col_indexer] = value instead\n",
      "\n",
      "See the caveats in the documentation: http://pandas.pydata.org/pandas-docs/stable/indexing.html#indexing-view-versus-copy\n",
      "  \"\"\"Entry point for launching an IPython kernel.\n"
     ]
    }
   ],
   "source": [
    "df['taille'] = df['taille'].map(lambda x: x.rstrip('m'))"
   ]
  },
  {
   "cell_type": "code",
<<<<<<< Updated upstream
   "execution_count": 14,
=======
   "execution_count": 15,
>>>>>>> Stashed changes
   "metadata": {},
   "outputs": [
    {
     "data": {
      "text/html": [
       "<div>\n",
       "<style scoped>\n",
       "    .dataframe tbody tr th:only-of-type {\n",
       "        vertical-align: middle;\n",
       "    }\n",
       "\n",
       "    .dataframe tbody tr th {\n",
       "        vertical-align: top;\n",
       "    }\n",
       "\n",
       "    .dataframe thead th {\n",
       "        text-align: right;\n",
       "    }\n",
       "</style>\n",
       "<table border=\"1\" class=\"dataframe\">\n",
       "  <thead>\n",
       "    <tr style=\"text-align: left;\">\n",
       "      <th></th>\n",
       "      <th>id_pokemon</th>\n",
       "      <th>nom_pokemon</th>\n",
       "      <th>taille</th>\n",
       "      <th>poids</th>\n",
       "      <th>Points de vie de base</th>\n",
       "      <th>Attaque de base</th>\n",
       "      <th>Défense de base</th>\n",
       "      <th>Attaque spéciale de base</th>\n",
       "      <th>Défense spéciale de base</th>\n",
       "      <th>Vitesse de base</th>\n",
       "      <th>Type_pokemon1-src</th>\n",
       "    </tr>\n",
       "  </thead>\n",
       "  <tbody>\n",
       "    <tr>\n",
       "      <th>0</th>\n",
       "      <td>378</td>\n",
       "      <td>Regice</td>\n",
       "      <td>1.8</td>\n",
       "      <td>175 kg</td>\n",
       "      <td>80</td>\n",
       "      <td>50</td>\n",
       "      <td>100</td>\n",
       "      <td>100</td>\n",
       "      <td>200</td>\n",
       "      <td>50</td>\n",
       "      <td>https:...</td>\n",
       "    </tr>\n",
       "    <tr>\n",
       "      <th>1</th>\n",
       "      <td>467</td>\n",
       "      <td>Maganon</td>\n",
       "      <td>1.6</td>\n",
       "      <td>68 kg</td>\n",
       "      <td>75</td>\n",
       "      <td>95</td>\n",
       "      <td>67</td>\n",
       "      <td>125</td>\n",
       "      <td>95</td>\n",
       "      <td>83</td>\n",
       "      <td>https:...</td>\n",
       "    </tr>\n",
       "    <tr>\n",
       "      <th>2</th>\n",
       "      <td>660</td>\n",
       "      <td>Excava...</td>\n",
       "      <td>1</td>\n",
       "      <td>42.4 kg</td>\n",
       "      <td>85</td>\n",
       "      <td>56</td>\n",
       "      <td>77</td>\n",
       "      <td>50</td>\n",
       "      <td>77</td>\n",
       "      <td>78</td>\n",
       "      <td>https:...</td>\n",
       "    </tr>\n",
       "    <tr>\n",
       "      <th>3</th>\n",
       "      <td>686</td>\n",
       "      <td>Sepiatop</td>\n",
       "      <td>0.4</td>\n",
       "      <td>3.5 kg</td>\n",
       "      <td>53</td>\n",
       "      <td>54</td>\n",
       "      <td>53</td>\n",
       "      <td>37</td>\n",
       "      <td>46</td>\n",
       "      <td>45</td>\n",
       "      <td>https:...</td>\n",
       "    </tr>\n",
       "    <tr>\n",
       "      <th>4</th>\n",
       "      <td>376</td>\n",
       "      <td>Métalosse</td>\n",
       "      <td>1.6</td>\n",
       "      <td>550 kg</td>\n",
       "      <td>80</td>\n",
       "      <td>135</td>\n",
       "      <td>130</td>\n",
       "      <td>95</td>\n",
       "      <td>90</td>\n",
       "      <td>70</td>\n",
       "      <td>https:...</td>\n",
       "    </tr>\n",
       "    <tr>\n",
       "      <th>...</th>\n",
       "      <td>...</td>\n",
       "      <td>...</td>\n",
       "      <td>...</td>\n",
       "      <td>...</td>\n",
       "      <td>...</td>\n",
       "      <td>...</td>\n",
       "      <td>...</td>\n",
       "      <td>...</td>\n",
       "      <td>...</td>\n",
       "      <td>...</td>\n",
       "      <td>...</td>\n",
       "    </tr>\n",
       "    <tr>\n",
       "      <th>1196</th>\n",
       "      <td>193</td>\n",
       "      <td>Yanma</td>\n",
       "      <td>1.2</td>\n",
       "      <td>38 kg</td>\n",
       "      <td>65</td>\n",
       "      <td>65</td>\n",
       "      <td>45</td>\n",
       "      <td>75</td>\n",
       "      <td>45</td>\n",
       "      <td>95</td>\n",
       "      <td>https:...</td>\n",
       "    </tr>\n",
       "    <tr>\n",
       "      <th>1197</th>\n",
       "      <td>480</td>\n",
       "      <td>Créhelf</td>\n",
       "      <td>0.3</td>\n",
       "      <td>0.3 kg</td>\n",
       "      <td>75</td>\n",
       "      <td>75</td>\n",
       "      <td>130</td>\n",
       "      <td>75</td>\n",
       "      <td>130</td>\n",
       "      <td>95</td>\n",
       "      <td>https:...</td>\n",
       "    </tr>\n",
       "    <tr>\n",
       "      <th>1198</th>\n",
       "      <td>733</td>\n",
       "      <td>Bazoucan</td>\n",
       "      <td>1.1</td>\n",
       "      <td>26 kg</td>\n",
       "      <td>80</td>\n",
       "      <td>120</td>\n",
       "      <td>75</td>\n",
       "      <td>75</td>\n",
       "      <td>75</td>\n",
       "      <td>60</td>\n",
       "      <td>https:...</td>\n",
       "    </tr>\n",
       "    <tr>\n",
       "      <th>1199</th>\n",
       "      <td>502</td>\n",
       "      <td>Matelo...</td>\n",
       "      <td>0.8</td>\n",
       "      <td>24.5 kg</td>\n",
       "      <td>75</td>\n",
       "      <td>75</td>\n",
       "      <td>60</td>\n",
       "      <td>83</td>\n",
       "      <td>60</td>\n",
       "      <td>60</td>\n",
       "      <td>https:...</td>\n",
       "    </tr>\n",
       "    <tr>\n",
       "      <th>1200</th>\n",
       "      <td>547</td>\n",
       "      <td>Farfad...</td>\n",
       "      <td>0.7</td>\n",
       "      <td>6.6 kg</td>\n",
       "      <td>60</td>\n",
       "      <td>67</td>\n",
       "      <td>85</td>\n",
       "      <td>77</td>\n",
       "      <td>75</td>\n",
       "      <td>116</td>\n",
       "      <td>https:...</td>\n",
       "    </tr>\n",
       "  </tbody>\n",
       "</table>\n",
       "<p>1201 rows × 11 columns</p>\n",
       "</div>"
      ],
      "text/plain": [
       "     id_pokemon nom_pokemon taille poids     Points de vie de base  Attaque de base  Défense de base  Attaque spéciale de base  Défense spéciale de base  Vitesse de base Type_pokemon1-src\n",
       "0     378           Regice   1.8     175 kg  80                      50              100              100                       200                        50              https:...       \n",
       "1     467          Maganon   1.6      68 kg  75                      95               67              125                        95                        83              https:...       \n",
       "2     660        Excava...     1    42.4 kg  85                      56               77               50                        77                        78              https:...       \n",
       "3     686         Sepiatop   0.4     3.5 kg  53                      54               53               37                        46                        45              https:...       \n",
       "4     376        Métalosse   1.6     550 kg  80                     135              130               95                        90                        70              https:...       \n",
       "...         ...        ...     ...      ...        ...                    ...              ...              ...                       ...                       ...              ...       \n",
       "1196  193            Yanma   1.2      38 kg  65                      65               45               75                        45                        95              https:...       \n",
       "1197  480          Créhelf   0.3     0.3 kg  75                      75              130               75                       130                        95              https:...       \n",
       "1198  733         Bazoucan   1.1      26 kg  80                     120               75               75                        75                        60              https:...       \n",
       "1199  502        Matelo...   0.8    24.5 kg  75                      75               60               83                        60                        60              https:...       \n",
       "1200  547        Farfad...   0.7     6.6 kg  60                      67               85               77                        75                       116              https:...       \n",
       "\n",
       "[1201 rows x 11 columns]"
      ]
     },
<<<<<<< Updated upstream
     "execution_count": 14,
=======
     "execution_count": 15,
>>>>>>> Stashed changes
     "metadata": {},
     "output_type": "execute_result"
    }
   ],
   "source": [
    "df"
   ]
  },
  {
   "cell_type": "code",
<<<<<<< Updated upstream
   "execution_count": 15,
=======
   "execution_count": 16,
>>>>>>> Stashed changes
   "metadata": {},
   "outputs": [
    {
     "name": "stderr",
     "output_type": "stream",
     "text": [
      "C:\\Users\\Administrateur\\Miniconda3\\lib\\site-packages\\ipykernel_launcher.py:1: SettingWithCopyWarning: \n",
      "A value is trying to be set on a copy of a slice from a DataFrame.\n",
      "Try using .loc[row_indexer,col_indexer] = value instead\n",
      "\n",
      "See the caveats in the documentation: http://pandas.pydata.org/pandas-docs/stable/indexing.html#indexing-view-versus-copy\n",
      "  \"\"\"Entry point for launching an IPython kernel.\n"
     ]
    }
   ],
   "source": [
    "df['poids'] = df['poids'].map(lambda x: x.rstrip('kg'))"
   ]
  },
  {
   "cell_type": "code",
<<<<<<< Updated upstream
   "execution_count": 16,
=======
   "execution_count": 17,
>>>>>>> Stashed changes
   "metadata": {},
   "outputs": [
    {
     "data": {
      "text/html": [
       "<div>\n",
       "<style scoped>\n",
       "    .dataframe tbody tr th:only-of-type {\n",
       "        vertical-align: middle;\n",
       "    }\n",
       "\n",
       "    .dataframe tbody tr th {\n",
       "        vertical-align: top;\n",
       "    }\n",
       "\n",
       "    .dataframe thead th {\n",
       "        text-align: right;\n",
       "    }\n",
       "</style>\n",
       "<table border=\"1\" class=\"dataframe\">\n",
       "  <thead>\n",
       "    <tr style=\"text-align: left;\">\n",
       "      <th></th>\n",
       "      <th>id_pokemon</th>\n",
       "      <th>nom_pokemon</th>\n",
       "      <th>taille</th>\n",
       "      <th>poids</th>\n",
       "      <th>Points de vie de base</th>\n",
       "      <th>Attaque de base</th>\n",
       "      <th>Défense de base</th>\n",
       "      <th>Attaque spéciale de base</th>\n",
       "      <th>Défense spéciale de base</th>\n",
       "      <th>Vitesse de base</th>\n",
       "      <th>Type_pokemon1-src</th>\n",
       "    </tr>\n",
       "  </thead>\n",
       "  <tbody>\n",
       "    <tr>\n",
       "      <th>0</th>\n",
       "      <td>378</td>\n",
       "      <td>Regice</td>\n",
       "      <td>1.8</td>\n",
       "      <td>175</td>\n",
       "      <td>80</td>\n",
       "      <td>50</td>\n",
       "      <td>100</td>\n",
       "      <td>100</td>\n",
       "      <td>200</td>\n",
       "      <td>50</td>\n",
       "      <td>https:...</td>\n",
       "    </tr>\n",
       "    <tr>\n",
       "      <th>1</th>\n",
       "      <td>467</td>\n",
       "      <td>Maganon</td>\n",
       "      <td>1.6</td>\n",
       "      <td>68</td>\n",
       "      <td>75</td>\n",
       "      <td>95</td>\n",
       "      <td>67</td>\n",
       "      <td>125</td>\n",
       "      <td>95</td>\n",
       "      <td>83</td>\n",
       "      <td>https:...</td>\n",
       "    </tr>\n",
       "    <tr>\n",
       "      <th>2</th>\n",
       "      <td>660</td>\n",
       "      <td>Excava...</td>\n",
       "      <td>1</td>\n",
       "      <td>42.4</td>\n",
       "      <td>85</td>\n",
       "      <td>56</td>\n",
       "      <td>77</td>\n",
       "      <td>50</td>\n",
       "      <td>77</td>\n",
       "      <td>78</td>\n",
       "      <td>https:...</td>\n",
       "    </tr>\n",
       "    <tr>\n",
       "      <th>3</th>\n",
       "      <td>686</td>\n",
       "      <td>Sepiatop</td>\n",
       "      <td>0.4</td>\n",
       "      <td>3.5</td>\n",
       "      <td>53</td>\n",
       "      <td>54</td>\n",
       "      <td>53</td>\n",
       "      <td>37</td>\n",
       "      <td>46</td>\n",
       "      <td>45</td>\n",
       "      <td>https:...</td>\n",
       "    </tr>\n",
       "    <tr>\n",
       "      <th>4</th>\n",
       "      <td>376</td>\n",
       "      <td>Métalosse</td>\n",
       "      <td>1.6</td>\n",
       "      <td>550</td>\n",
       "      <td>80</td>\n",
       "      <td>135</td>\n",
       "      <td>130</td>\n",
       "      <td>95</td>\n",
       "      <td>90</td>\n",
       "      <td>70</td>\n",
       "      <td>https:...</td>\n",
       "    </tr>\n",
       "    <tr>\n",
       "      <th>...</th>\n",
       "      <td>...</td>\n",
       "      <td>...</td>\n",
       "      <td>...</td>\n",
       "      <td>...</td>\n",
       "      <td>...</td>\n",
       "      <td>...</td>\n",
       "      <td>...</td>\n",
       "      <td>...</td>\n",
       "      <td>...</td>\n",
       "      <td>...</td>\n",
       "      <td>...</td>\n",
       "    </tr>\n",
       "    <tr>\n",
       "      <th>1196</th>\n",
       "      <td>193</td>\n",
       "      <td>Yanma</td>\n",
       "      <td>1.2</td>\n",
       "      <td>38</td>\n",
       "      <td>65</td>\n",
       "      <td>65</td>\n",
       "      <td>45</td>\n",
       "      <td>75</td>\n",
       "      <td>45</td>\n",
       "      <td>95</td>\n",
       "      <td>https:...</td>\n",
       "    </tr>\n",
       "    <tr>\n",
       "      <th>1197</th>\n",
       "      <td>480</td>\n",
       "      <td>Créhelf</td>\n",
       "      <td>0.3</td>\n",
       "      <td>0.3</td>\n",
       "      <td>75</td>\n",
       "      <td>75</td>\n",
       "      <td>130</td>\n",
       "      <td>75</td>\n",
       "      <td>130</td>\n",
       "      <td>95</td>\n",
       "      <td>https:...</td>\n",
       "    </tr>\n",
       "    <tr>\n",
       "      <th>1198</th>\n",
       "      <td>733</td>\n",
       "      <td>Bazoucan</td>\n",
       "      <td>1.1</td>\n",
       "      <td>26</td>\n",
       "      <td>80</td>\n",
       "      <td>120</td>\n",
       "      <td>75</td>\n",
       "      <td>75</td>\n",
       "      <td>75</td>\n",
       "      <td>60</td>\n",
       "      <td>https:...</td>\n",
       "    </tr>\n",
       "    <tr>\n",
       "      <th>1199</th>\n",
       "      <td>502</td>\n",
       "      <td>Matelo...</td>\n",
       "      <td>0.8</td>\n",
       "      <td>24.5</td>\n",
       "      <td>75</td>\n",
       "      <td>75</td>\n",
       "      <td>60</td>\n",
       "      <td>83</td>\n",
       "      <td>60</td>\n",
       "      <td>60</td>\n",
       "      <td>https:...</td>\n",
       "    </tr>\n",
       "    <tr>\n",
       "      <th>1200</th>\n",
       "      <td>547</td>\n",
       "      <td>Farfad...</td>\n",
       "      <td>0.7</td>\n",
       "      <td>6.6</td>\n",
       "      <td>60</td>\n",
       "      <td>67</td>\n",
       "      <td>85</td>\n",
       "      <td>77</td>\n",
       "      <td>75</td>\n",
       "      <td>116</td>\n",
       "      <td>https:...</td>\n",
       "    </tr>\n",
       "  </tbody>\n",
       "</table>\n",
       "<p>1201 rows × 11 columns</p>\n",
       "</div>"
      ],
      "text/plain": [
       "     id_pokemon nom_pokemon taille poids   Points de vie de base  Attaque de base  Défense de base  Attaque spéciale de base  Défense spéciale de base  Vitesse de base Type_pokemon1-src\n",
       "0     378           Regice   1.8     175   80                      50              100              100                       200                        50              https:...       \n",
       "1     467          Maganon   1.6      68   75                      95               67              125                        95                        83              https:...       \n",
       "2     660        Excava...     1    42.4   85                      56               77               50                        77                        78              https:...       \n",
       "3     686         Sepiatop   0.4     3.5   53                      54               53               37                        46                        45              https:...       \n",
       "4     376        Métalosse   1.6     550   80                     135              130               95                        90                        70              https:...       \n",
       "...         ...        ...     ...    ...        ...                    ...              ...              ...                       ...                       ...              ...       \n",
       "1196  193            Yanma   1.2      38   65                      65               45               75                        45                        95              https:...       \n",
       "1197  480          Créhelf   0.3     0.3   75                      75              130               75                       130                        95              https:...       \n",
       "1198  733         Bazoucan   1.1      26   80                     120               75               75                        75                        60              https:...       \n",
       "1199  502        Matelo...   0.8    24.5   75                      75               60               83                        60                        60              https:...       \n",
       "1200  547        Farfad...   0.7     6.6   60                      67               85               77                        75                       116              https:...       \n",
       "\n",
       "[1201 rows x 11 columns]"
      ]
     },
<<<<<<< Updated upstream
     "execution_count": 16,
=======
     "execution_count": 17,
>>>>>>> Stashed changes
     "metadata": {},
     "output_type": "execute_result"
    }
   ],
   "source": [
    "df"
   ]
  },
  {
   "cell_type": "markdown",
   "metadata": {},
   "source": [
    "# Modification de la colonne Type pokemon"
   ]
  },
  {
   "cell_type": "code",
<<<<<<< Updated upstream
   "execution_count": 17,
=======
   "execution_count": 18,
>>>>>>> Stashed changes
   "metadata": {},
   "outputs": [
    {
     "name": "stderr",
     "output_type": "stream",
     "text": [
      "C:\\Users\\Administrateur\\Miniconda3\\lib\\site-packages\\ipykernel_launcher.py:1: FutureWarning: currently extract(expand=None) means expand=False (return Index/Series/DataFrame) but in a future version of pandas this will be changed to expand=True (return DataFrame)\n",
      "  \"\"\"Entry point for launching an IPython kernel.\n",
      "C:\\Users\\Administrateur\\Miniconda3\\lib\\site-packages\\ipykernel_launcher.py:1: SettingWithCopyWarning: \n",
      "A value is trying to be set on a copy of a slice from a DataFrame.\n",
      "Try using .loc[row_indexer,col_indexer] = value instead\n",
      "\n",
      "See the caveats in the documentation: http://pandas.pydata.org/pandas-docs/stable/indexing.html#indexing-view-versus-copy\n",
      "  \"\"\"Entry point for launching an IPython kernel.\n"
     ]
    }
   ],
   "source": [
    "df['Type_pokemon1-src']=df['Type_pokemon1-src'].str.extract('(\\d+)').astype(int)"
   ]
  },
  {
   "cell_type": "code",
<<<<<<< Updated upstream
   "execution_count": 18,
=======
   "execution_count": 19,
>>>>>>> Stashed changes
   "metadata": {},
   "outputs": [
    {
     "data": {
      "text/html": [
       "<div>\n",
       "<style scoped>\n",
       "    .dataframe tbody tr th:only-of-type {\n",
       "        vertical-align: middle;\n",
       "    }\n",
       "\n",
       "    .dataframe tbody tr th {\n",
       "        vertical-align: top;\n",
       "    }\n",
       "\n",
       "    .dataframe thead th {\n",
       "        text-align: right;\n",
       "    }\n",
       "</style>\n",
       "<table border=\"1\" class=\"dataframe\">\n",
       "  <thead>\n",
       "    <tr style=\"text-align: left;\">\n",
       "      <th></th>\n",
       "      <th>id_pokemon</th>\n",
       "      <th>nom_pokemon</th>\n",
       "      <th>taille</th>\n",
       "      <th>poids</th>\n",
       "      <th>Points de vie de base</th>\n",
       "      <th>Attaque de base</th>\n",
       "      <th>Défense de base</th>\n",
       "      <th>Attaque spéciale de base</th>\n",
       "      <th>Défense spéciale de base</th>\n",
       "      <th>Vitesse de base</th>\n",
       "      <th>Type_pokemon1-src</th>\n",
       "    </tr>\n",
       "  </thead>\n",
       "  <tbody>\n",
       "    <tr>\n",
       "      <th>0</th>\n",
       "      <td>378</td>\n",
       "      <td>Regice</td>\n",
       "      <td>1.8</td>\n",
       "      <td>175</td>\n",
       "      <td>80</td>\n",
       "      <td>50</td>\n",
       "      <td>100</td>\n",
       "      <td>100</td>\n",
       "      <td>200</td>\n",
       "      <td>50</td>\n",
       "      <td>15</td>\n",
       "    </tr>\n",
       "    <tr>\n",
       "      <th>1</th>\n",
       "      <td>467</td>\n",
       "      <td>Maganon</td>\n",
       "      <td>1.6</td>\n",
       "      <td>68</td>\n",
       "      <td>75</td>\n",
       "      <td>95</td>\n",
       "      <td>67</td>\n",
       "      <td>125</td>\n",
       "      <td>95</td>\n",
       "      <td>83</td>\n",
       "      <td>10</td>\n",
       "    </tr>\n",
       "    <tr>\n",
       "      <th>2</th>\n",
       "      <td>660</td>\n",
       "      <td>Excava...</td>\n",
       "      <td>1</td>\n",
       "      <td>42.4</td>\n",
       "      <td>85</td>\n",
       "      <td>56</td>\n",
       "      <td>77</td>\n",
       "      <td>50</td>\n",
       "      <td>77</td>\n",
       "      <td>78</td>\n",
       "      <td>1</td>\n",
       "    </tr>\n",
       "    <tr>\n",
       "      <th>3</th>\n",
       "      <td>686</td>\n",
       "      <td>Sepiatop</td>\n",
       "      <td>0.4</td>\n",
       "      <td>3.5</td>\n",
       "      <td>53</td>\n",
       "      <td>54</td>\n",
       "      <td>53</td>\n",
       "      <td>37</td>\n",
       "      <td>46</td>\n",
       "      <td>45</td>\n",
       "      <td>17</td>\n",
       "    </tr>\n",
       "    <tr>\n",
       "      <th>4</th>\n",
       "      <td>376</td>\n",
       "      <td>Métalosse</td>\n",
       "      <td>1.6</td>\n",
       "      <td>550</td>\n",
       "      <td>80</td>\n",
       "      <td>135</td>\n",
       "      <td>130</td>\n",
       "      <td>95</td>\n",
       "      <td>90</td>\n",
       "      <td>70</td>\n",
       "      <td>14</td>\n",
       "    </tr>\n",
       "    <tr>\n",
       "      <th>...</th>\n",
       "      <td>...</td>\n",
       "      <td>...</td>\n",
       "      <td>...</td>\n",
       "      <td>...</td>\n",
       "      <td>...</td>\n",
       "      <td>...</td>\n",
       "      <td>...</td>\n",
       "      <td>...</td>\n",
       "      <td>...</td>\n",
       "      <td>...</td>\n",
       "      <td>...</td>\n",
       "    </tr>\n",
       "    <tr>\n",
       "      <th>1196</th>\n",
       "      <td>193</td>\n",
       "      <td>Yanma</td>\n",
       "      <td>1.2</td>\n",
       "      <td>38</td>\n",
       "      <td>65</td>\n",
       "      <td>65</td>\n",
       "      <td>45</td>\n",
       "      <td>75</td>\n",
       "      <td>45</td>\n",
       "      <td>95</td>\n",
       "      <td>7</td>\n",
       "    </tr>\n",
       "    <tr>\n",
       "      <th>1197</th>\n",
       "      <td>480</td>\n",
       "      <td>Créhelf</td>\n",
       "      <td>0.3</td>\n",
       "      <td>0.3</td>\n",
       "      <td>75</td>\n",
       "      <td>75</td>\n",
       "      <td>130</td>\n",
       "      <td>75</td>\n",
       "      <td>130</td>\n",
       "      <td>95</td>\n",
       "      <td>14</td>\n",
       "    </tr>\n",
       "    <tr>\n",
       "      <th>1198</th>\n",
       "      <td>733</td>\n",
       "      <td>Bazoucan</td>\n",
       "      <td>1.1</td>\n",
       "      <td>26</td>\n",
       "      <td>80</td>\n",
       "      <td>120</td>\n",
       "      <td>75</td>\n",
       "      <td>75</td>\n",
       "      <td>75</td>\n",
       "      <td>60</td>\n",
       "      <td>1</td>\n",
       "    </tr>\n",
       "    <tr>\n",
       "      <th>1199</th>\n",
       "      <td>502</td>\n",
       "      <td>Matelo...</td>\n",
       "      <td>0.8</td>\n",
       "      <td>24.5</td>\n",
       "      <td>75</td>\n",
       "      <td>75</td>\n",
       "      <td>60</td>\n",
       "      <td>83</td>\n",
       "      <td>60</td>\n",
       "      <td>60</td>\n",
       "      <td>11</td>\n",
       "    </tr>\n",
       "    <tr>\n",
       "      <th>1200</th>\n",
       "      <td>547</td>\n",
       "      <td>Farfad...</td>\n",
       "      <td>0.7</td>\n",
       "      <td>6.6</td>\n",
       "      <td>60</td>\n",
       "      <td>67</td>\n",
       "      <td>85</td>\n",
       "      <td>77</td>\n",
       "      <td>75</td>\n",
       "      <td>116</td>\n",
       "      <td>18</td>\n",
       "    </tr>\n",
       "  </tbody>\n",
       "</table>\n",
       "<p>1201 rows × 11 columns</p>\n",
       "</div>"
      ],
      "text/plain": [
       "     id_pokemon nom_pokemon taille poids   Points de vie de base  Attaque de base  Défense de base  Attaque spéciale de base  Défense spéciale de base  Vitesse de base  Type_pokemon1-src\n",
       "0     378           Regice   1.8     175   80                      50              100              100                       200                        50              15               \n",
       "1     467          Maganon   1.6      68   75                      95               67              125                        95                        83              10               \n",
       "2     660        Excava...     1    42.4   85                      56               77               50                        77                        78               1               \n",
       "3     686         Sepiatop   0.4     3.5   53                      54               53               37                        46                        45              17               \n",
       "4     376        Métalosse   1.6     550   80                     135              130               95                        90                        70              14               \n",
       "...         ...        ...     ...    ...        ...                    ...              ...              ...                       ...                       ...              ...        \n",
       "1196  193            Yanma   1.2      38   65                      65               45               75                        45                        95               7               \n",
       "1197  480          Créhelf   0.3     0.3   75                      75              130               75                       130                        95              14               \n",
       "1198  733         Bazoucan   1.1      26   80                     120               75               75                        75                        60               1               \n",
       "1199  502        Matelo...   0.8    24.5   75                      75               60               83                        60                        60              11               \n",
       "1200  547        Farfad...   0.7     6.6   60                      67               85               77                        75                       116              18               \n",
       "\n",
       "[1201 rows x 11 columns]"
      ]
     },
<<<<<<< Updated upstream
     "execution_count": 18,
=======
     "execution_count": 19,
>>>>>>> Stashed changes
     "metadata": {},
     "output_type": "execute_result"
    }
   ],
   "source": [
    "df"
   ]
  },
  {
   "cell_type": "code",
<<<<<<< Updated upstream
   "execution_count": 19,
=======
   "execution_count": 20,
>>>>>>> Stashed changes
   "metadata": {},
   "outputs": [],
   "source": [
    "df = df.rename(columns={'Type_pokemon1-src': 'type_pokemon'})"
   ]
  },
  {
   "cell_type": "markdown",
   "metadata": {},
   "source": [
    "# Modification de Names Index dans le DF"
   ]
  },
  {
   "cell_type": "code",
<<<<<<< Updated upstream
   "execution_count": 20,
=======
   "execution_count": 21,
>>>>>>> Stashed changes
   "metadata": {},
   "outputs": [],
   "source": [
    "df.columns = df.columns.str.lower()"
   ]
  },
  {
   "cell_type": "code",
<<<<<<< Updated upstream
   "execution_count": 21,
=======
   "execution_count": 22,
>>>>>>> Stashed changes
   "metadata": {},
   "outputs": [],
   "source": [
    "df.columns = df.columns.str.replace(' ','_')"
   ]
  },
  {
   "cell_type": "markdown",
   "metadata": {},
   "source": [
    "# Suppression des doublons"
   ]
  },
  {
   "cell_type": "code",
<<<<<<< Updated upstream
   "execution_count": 22,
=======
   "execution_count": 23,
>>>>>>> Stashed changes
   "metadata": {},
   "outputs": [],
   "source": [
    "df.drop_duplicates(['id_pokemon'],inplace=True)"
   ]
  },
  {
   "cell_type": "code",
<<<<<<< Updated upstream
   "execution_count": 23,
=======
   "execution_count": 24,
>>>>>>> Stashed changes
   "metadata": {},
   "outputs": [
    {
     "data": {
      "text/html": [
       "<div>\n",
       "<style scoped>\n",
       "    .dataframe tbody tr th:only-of-type {\n",
       "        vertical-align: middle;\n",
       "    }\n",
       "\n",
       "    .dataframe tbody tr th {\n",
       "        vertical-align: top;\n",
       "    }\n",
       "\n",
       "    .dataframe thead th {\n",
       "        text-align: right;\n",
       "    }\n",
       "</style>\n",
       "<table border=\"1\" class=\"dataframe\">\n",
       "  <thead>\n",
       "    <tr style=\"text-align: left;\">\n",
       "      <th></th>\n",
       "      <th>id_pokemon</th>\n",
       "      <th>nom_pokemon</th>\n",
       "      <th>taille</th>\n",
       "      <th>poids</th>\n",
       "      <th>points_de_vie_de_base</th>\n",
       "      <th>attaque_de_base</th>\n",
       "      <th>défense_de_base</th>\n",
       "      <th>attaque_spéciale_de_base</th>\n",
       "      <th>défense_spéciale_de_base</th>\n",
       "      <th>vitesse_de_base</th>\n",
       "      <th>type_pokemon</th>\n",
       "    </tr>\n",
       "  </thead>\n",
       "  <tbody>\n",
       "    <tr>\n",
       "      <th>0</th>\n",
       "      <td>378</td>\n",
       "      <td>Regice</td>\n",
       "      <td>1.8</td>\n",
       "      <td>175</td>\n",
       "      <td>80</td>\n",
       "      <td>50</td>\n",
       "      <td>100</td>\n",
       "      <td>100</td>\n",
       "      <td>200</td>\n",
       "      <td>50</td>\n",
       "      <td>15</td>\n",
       "    </tr>\n",
       "    <tr>\n",
       "      <th>1</th>\n",
       "      <td>467</td>\n",
       "      <td>Maganon</td>\n",
       "      <td>1.6</td>\n",
       "      <td>68</td>\n",
       "      <td>75</td>\n",
       "      <td>95</td>\n",
       "      <td>67</td>\n",
       "      <td>125</td>\n",
       "      <td>95</td>\n",
       "      <td>83</td>\n",
       "      <td>10</td>\n",
       "    </tr>\n",
       "    <tr>\n",
       "      <th>2</th>\n",
       "      <td>660</td>\n",
       "      <td>Excava...</td>\n",
       "      <td>1</td>\n",
       "      <td>42.4</td>\n",
       "      <td>85</td>\n",
       "      <td>56</td>\n",
       "      <td>77</td>\n",
       "      <td>50</td>\n",
       "      <td>77</td>\n",
       "      <td>78</td>\n",
       "      <td>1</td>\n",
       "    </tr>\n",
       "    <tr>\n",
       "      <th>3</th>\n",
       "      <td>686</td>\n",
       "      <td>Sepiatop</td>\n",
       "      <td>0.4</td>\n",
       "      <td>3.5</td>\n",
       "      <td>53</td>\n",
       "      <td>54</td>\n",
       "      <td>53</td>\n",
       "      <td>37</td>\n",
       "      <td>46</td>\n",
       "      <td>45</td>\n",
       "      <td>17</td>\n",
       "    </tr>\n",
       "    <tr>\n",
       "      <th>4</th>\n",
       "      <td>376</td>\n",
       "      <td>Métalosse</td>\n",
       "      <td>1.6</td>\n",
       "      <td>550</td>\n",
       "      <td>80</td>\n",
       "      <td>135</td>\n",
       "      <td>130</td>\n",
       "      <td>95</td>\n",
       "      <td>90</td>\n",
       "      <td>70</td>\n",
       "      <td>14</td>\n",
       "    </tr>\n",
       "    <tr>\n",
       "      <th>...</th>\n",
       "      <td>...</td>\n",
       "      <td>...</td>\n",
       "      <td>...</td>\n",
       "      <td>...</td>\n",
       "      <td>...</td>\n",
       "      <td>...</td>\n",
       "      <td>...</td>\n",
       "      <td>...</td>\n",
       "      <td>...</td>\n",
       "      <td>...</td>\n",
       "      <td>...</td>\n",
       "    </tr>\n",
       "    <tr>\n",
       "      <th>1185</th>\n",
       "      <td>23</td>\n",
       "      <td>Abo</td>\n",
       "      <td>2</td>\n",
       "      <td>6.9</td>\n",
       "      <td>35</td>\n",
       "      <td>60</td>\n",
       "      <td>44</td>\n",
       "      <td>40</td>\n",
       "      <td>54</td>\n",
       "      <td>55</td>\n",
       "      <td>4</td>\n",
       "    </tr>\n",
       "    <tr>\n",
       "      <th>1186</th>\n",
       "      <td>351</td>\n",
       "      <td>Morphéo</td>\n",
       "      <td>0.3</td>\n",
       "      <td>0.8</td>\n",
       "      <td>70</td>\n",
       "      <td>70</td>\n",
       "      <td>70</td>\n",
       "      <td>70</td>\n",
       "      <td>70</td>\n",
       "      <td>70</td>\n",
       "      <td>1</td>\n",
       "    </tr>\n",
       "    <tr>\n",
       "      <th>1195</th>\n",
       "      <td>241</td>\n",
       "      <td>Écrémeuh</td>\n",
       "      <td>1.2</td>\n",
       "      <td>75.5</td>\n",
       "      <td>95</td>\n",
       "      <td>80</td>\n",
       "      <td>105</td>\n",
       "      <td>40</td>\n",
       "      <td>70</td>\n",
       "      <td>100</td>\n",
       "      <td>1</td>\n",
       "    </tr>\n",
       "    <tr>\n",
       "      <th>1197</th>\n",
       "      <td>480</td>\n",
       "      <td>Créhelf</td>\n",
       "      <td>0.3</td>\n",
       "      <td>0.3</td>\n",
       "      <td>75</td>\n",
       "      <td>75</td>\n",
       "      <td>130</td>\n",
       "      <td>75</td>\n",
       "      <td>130</td>\n",
       "      <td>95</td>\n",
       "      <td>14</td>\n",
       "    </tr>\n",
       "    <tr>\n",
       "      <th>1199</th>\n",
       "      <td>502</td>\n",
       "      <td>Matelo...</td>\n",
       "      <td>0.8</td>\n",
       "      <td>24.5</td>\n",
       "      <td>75</td>\n",
       "      <td>75</td>\n",
       "      <td>60</td>\n",
       "      <td>83</td>\n",
       "      <td>60</td>\n",
       "      <td>60</td>\n",
       "      <td>11</td>\n",
       "    </tr>\n",
       "  </tbody>\n",
       "</table>\n",
       "<p>800 rows × 11 columns</p>\n",
       "</div>"
      ],
      "text/plain": [
       "     id_pokemon nom_pokemon taille poids   points_de_vie_de_base  attaque_de_base  défense_de_base  attaque_spéciale_de_base  défense_spéciale_de_base  vitesse_de_base  type_pokemon\n",
       "0     378           Regice   1.8     175   80                      50              100              100                       200                        50              15          \n",
       "1     467          Maganon   1.6      68   75                      95               67              125                        95                        83              10          \n",
       "2     660        Excava...     1    42.4   85                      56               77               50                        77                        78               1          \n",
       "3     686         Sepiatop   0.4     3.5   53                      54               53               37                        46                        45              17          \n",
       "4     376        Métalosse   1.6     550   80                     135              130               95                        90                        70              14          \n",
       "...         ...        ...     ...    ...        ...                    ...              ...              ...                       ...                       ...              ...   \n",
       "1185   23              Abo     2     6.9   35                      60               44               40                        54                        55               4          \n",
       "1186  351          Morphéo   0.3     0.8   70                      70               70               70                        70                        70               1          \n",
       "1195  241         Écrémeuh   1.2    75.5   95                      80              105               40                        70                       100               1          \n",
       "1197  480          Créhelf   0.3     0.3   75                      75              130               75                       130                        95              14          \n",
       "1199  502        Matelo...   0.8    24.5   75                      75               60               83                        60                        60              11          \n",
       "\n",
       "[800 rows x 11 columns]"
      ]
     },
<<<<<<< Updated upstream
     "execution_count": 23,
=======
     "execution_count": 24,
>>>>>>> Stashed changes
     "metadata": {},
     "output_type": "execute_result"
    }
   ],
   "source": [
    "df"
   ]
  },
  {
   "cell_type": "markdown",
   "metadata": {},
   "source": [
    "# Enregistrement du CSV nettoyer"
   ]
  },
  {
   "cell_type": "code",
<<<<<<< Updated upstream
   "execution_count": 24,
=======
   "execution_count": 25,
>>>>>>> Stashed changes
   "metadata": {},
   "outputs": [],
   "source": [
    "df.to_csv('pokemon_csv_nettoyer.csv', sep='\\t', encoding='utf-8')"
   ]
  },
  {
   "cell_type": "markdown",
   "metadata": {},
   "source": [
    "# Connexion à notre base de données + création de la table pokemons"
   ]
  },
  {
   "cell_type": "code",
<<<<<<< Updated upstream
   "execution_count": 25,
=======
   "execution_count": 27,
>>>>>>> Stashed changes
   "metadata": {},
   "outputs": [
    {
     "name": "stderr",
     "output_type": "stream",
     "text": [
      "C:\\Users\\Administrateur\\Miniconda3\\lib\\site-packages\\pymysql\\cursors.py:170: Warning: (1366, \"Incorrect string value: '\\\\x92\\\\xE9t\\\\xE9)' for column 'VARIABLE_VALUE' at row 481\")\n",
      "  result = self._query(query)\n"
     ]
    }
   ],
   "source": [
    "import pandas as pd\n",
    "import pymysql\n",
    "from sqlalchemy import create_engine\n",
    "\n",
    "user = 'root'\n",
    "passw = 'root'\n",
    "host =  'localhost'  # either localhost or ip e.g. '172.17.0.2' or hostname address \n",
    "port = 3306 \n",
    "database = 'test'\n",
    "\n",
    "mydb = create_engine('mysql+pymysql://' + user + ':' + passw + '@' + host + ':' + str(port) + '/' + database , echo=False)\n",
    "\n",
    "# directory = r'C:\\Users\\Administrateur\\Desktop\\PROJET POKEMON !!'  # path of csv file\n",
    "# csvFileName = 'pokemon_csv_nettoyer.csv'\n",
    "\n",
    "# df = pd.read_csv(os.path.join(directory, csvFileName ))\n",
    "\n",
    "df.to_sql(name='pokemons', con=mydb, if_exists = 'replace', index=False)"
   ]
  },
  {
   "cell_type": "code",
<<<<<<< Updated upstream
   "execution_count": 26,
=======
   "execution_count": 28,
>>>>>>> Stashed changes
   "metadata": {},
   "outputs": [],
   "source": [
    "pokemon_id = pd.read_sql('SELECT * FROM pokemons where id_pokemon=801', mydb)"
   ]
  },
  {
   "cell_type": "code",
<<<<<<< Updated upstream
   "execution_count": 27,
=======
   "execution_count": 29,
>>>>>>> Stashed changes
   "metadata": {},
   "outputs": [
    {
     "data": {
      "text/html": [
       "<div>\n",
       "<style scoped>\n",
       "    .dataframe tbody tr th:only-of-type {\n",
       "        vertical-align: middle;\n",
       "    }\n",
       "\n",
       "    .dataframe tbody tr th {\n",
       "        vertical-align: top;\n",
       "    }\n",
       "\n",
       "    .dataframe thead th {\n",
       "        text-align: right;\n",
       "    }\n",
       "</style>\n",
       "<table border=\"1\" class=\"dataframe\">\n",
       "  <thead>\n",
       "    <tr style=\"text-align: left;\">\n",
       "      <th></th>\n",
       "      <th>id_pokemon</th>\n",
       "      <th>nom_pokemon</th>\n",
       "      <th>taille</th>\n",
       "      <th>poids</th>\n",
       "      <th>points_de_vie_de_base</th>\n",
       "      <th>attaque_de_base</th>\n",
       "      <th>défense_de_base</th>\n",
       "      <th>attaque_spéciale_de_base</th>\n",
       "      <th>défense_spéciale_de_base</th>\n",
       "      <th>vitesse_de_base</th>\n",
       "      <th>type_pokemon</th>\n",
       "    </tr>\n",
       "  </thead>\n",
       "  <tbody>\n",
       "    <tr>\n",
       "      <th>0</th>\n",
       "      <td>801</td>\n",
       "      <td>Magearna</td>\n",
       "      <td>1</td>\n",
       "      <td>80.5</td>\n",
       "      <td>80</td>\n",
       "      <td>95</td>\n",
       "      <td>115</td>\n",
       "      <td>130</td>\n",
       "      <td>115</td>\n",
       "      <td>65</td>\n",
       "      <td>9</td>\n",
       "    </tr>\n",
       "  </tbody>\n",
       "</table>\n",
       "</div>"
      ],
      "text/plain": [
       "  id_pokemon nom_pokemon taille poids   points_de_vie_de_base  attaque_de_base  défense_de_base  attaque_spéciale_de_base  défense_spéciale_de_base  vitesse_de_base  type_pokemon\n",
       "0  801        Magearna    1      80.5   80                     95               115              130                       115                       65               9           "
      ]
     },
<<<<<<< Updated upstream
     "execution_count": 27,
=======
     "execution_count": 29,
>>>>>>> Stashed changes
     "metadata": {},
     "output_type": "execute_result"
    }
   ],
   "source": [
    "pokemon_id"
   ]
  },
  {
   "cell_type": "code",
   "execution_count": 56,
   "metadata": {},
   "outputs": [],
   "source": [
    "# df.sort_values(by=['id_pokemon'])"
   ]
  },
  {
   "cell_type": "code",
   "execution_count": 97,
   "metadata": {},
   "outputs": [],
   "source": [
    "# requete='INSERT INTO test VALUES (?)'\n",
    "# for i in range(1, 4):\n",
    "#     print(i)\n",
    "#     insertion = pd.read_sql(requete,i, mydb)"
   ]
  },
  {
   "cell_type": "markdown",
   "metadata": {},
   "source": [
    "# Creation des tables génération des pokemons"
   ]
  },
  {
   "cell_type": "code",
<<<<<<< Updated upstream
   "execution_count": 31,
=======
   "execution_count": 30,
>>>>>>> Stashed changes
   "metadata": {},
   "outputs": [],
   "source": [
    "rows = []\n",
    "nom_columns = ['id_pokemon']\n",
    "\n",
    "for i in range(1,152):\n",
    "    row = [i]\n",
    "    rows.append(row)\n",
    "\n",
    "df_generation_1 = pd.DataFrame(rows, columns=nom_columns)"
   ]
  },
  {
   "cell_type": "code",
<<<<<<< Updated upstream
   "execution_count": 32,
=======
   "execution_count": 31,
>>>>>>> Stashed changes
   "metadata": {},
   "outputs": [
    {
     "data": {
      "text/html": [
       "<div>\n",
       "<style scoped>\n",
       "    .dataframe tbody tr th:only-of-type {\n",
       "        vertical-align: middle;\n",
       "    }\n",
       "\n",
       "    .dataframe tbody tr th {\n",
       "        vertical-align: top;\n",
       "    }\n",
       "\n",
       "    .dataframe thead th {\n",
       "        text-align: right;\n",
       "    }\n",
       "</style>\n",
       "<table border=\"1\" class=\"dataframe\">\n",
       "  <thead>\n",
       "    <tr style=\"text-align: left;\">\n",
       "      <th></th>\n",
       "      <th>id_pokemon</th>\n",
       "    </tr>\n",
       "  </thead>\n",
       "  <tbody>\n",
       "    <tr>\n",
       "      <th>0</th>\n",
       "      <td>1</td>\n",
       "    </tr>\n",
       "    <tr>\n",
       "      <th>1</th>\n",
       "      <td>2</td>\n",
       "    </tr>\n",
       "    <tr>\n",
       "      <th>2</th>\n",
       "      <td>3</td>\n",
       "    </tr>\n",
       "    <tr>\n",
       "      <th>3</th>\n",
       "      <td>4</td>\n",
       "    </tr>\n",
       "    <tr>\n",
       "      <th>4</th>\n",
       "      <td>5</td>\n",
       "    </tr>\n",
       "    <tr>\n",
       "      <th>...</th>\n",
       "      <td>...</td>\n",
       "    </tr>\n",
       "    <tr>\n",
       "      <th>146</th>\n",
       "      <td>147</td>\n",
       "    </tr>\n",
       "    <tr>\n",
       "      <th>147</th>\n",
       "      <td>148</td>\n",
       "    </tr>\n",
       "    <tr>\n",
       "      <th>148</th>\n",
       "      <td>149</td>\n",
       "    </tr>\n",
       "    <tr>\n",
       "      <th>149</th>\n",
       "      <td>150</td>\n",
       "    </tr>\n",
       "    <tr>\n",
       "      <th>150</th>\n",
       "      <td>151</td>\n",
       "    </tr>\n",
       "  </tbody>\n",
       "</table>\n",
       "<p>151 rows × 1 columns</p>\n",
       "</div>"
      ],
      "text/plain": [
       "     id_pokemon\n",
       "0      1       \n",
       "1      2       \n",
       "2      3       \n",
       "3      4       \n",
       "4      5       \n",
       "..         ... \n",
       "146  147       \n",
       "147  148       \n",
       "148  149       \n",
       "149  150       \n",
       "150  151       \n",
       "\n",
       "[151 rows x 1 columns]"
      ]
     },
<<<<<<< Updated upstream
     "execution_count": 32,
=======
     "execution_count": 31,
>>>>>>> Stashed changes
     "metadata": {},
     "output_type": "execute_result"
    }
   ],
   "source": [
    "df_generation_1"
   ]
  },
  {
   "cell_type": "code",
<<<<<<< Updated upstream
   "execution_count": 33,
=======
   "execution_count": 32,
>>>>>>> Stashed changes
   "metadata": {},
   "outputs": [],
   "source": [
    "df_generation_1.to_sql(name='generation_1', con=mydb, if_exists = 'replace', index=False)"
   ]
  },
  {
   "cell_type": "code",
<<<<<<< Updated upstream
   "execution_count": 34,
=======
   "execution_count": 33,
>>>>>>> Stashed changes
   "metadata": {},
   "outputs": [],
   "source": [
    "rows = []\n",
    "nom_columns = ['id_pokemon']\n",
    "\n",
    "for i in range(152,252):\n",
    "    row = [i]\n",
    "    rows.append(row)\n",
    "\n",
    "df_generation_2 = pd.DataFrame(rows, columns=nom_columns)"
   ]
  },
  {
   "cell_type": "code",
<<<<<<< Updated upstream
   "execution_count": 35,
=======
   "execution_count": 34,
>>>>>>> Stashed changes
   "metadata": {},
   "outputs": [
    {
     "data": {
      "text/html": [
       "<div>\n",
       "<style scoped>\n",
       "    .dataframe tbody tr th:only-of-type {\n",
       "        vertical-align: middle;\n",
       "    }\n",
       "\n",
       "    .dataframe tbody tr th {\n",
       "        vertical-align: top;\n",
       "    }\n",
       "\n",
       "    .dataframe thead th {\n",
       "        text-align: right;\n",
       "    }\n",
       "</style>\n",
       "<table border=\"1\" class=\"dataframe\">\n",
       "  <thead>\n",
       "    <tr style=\"text-align: left;\">\n",
       "      <th></th>\n",
       "      <th>id_pokemon</th>\n",
       "    </tr>\n",
       "  </thead>\n",
       "  <tbody>\n",
       "    <tr>\n",
       "      <th>0</th>\n",
       "      <td>152</td>\n",
       "    </tr>\n",
       "    <tr>\n",
       "      <th>1</th>\n",
       "      <td>153</td>\n",
       "    </tr>\n",
       "    <tr>\n",
       "      <th>2</th>\n",
       "      <td>154</td>\n",
       "    </tr>\n",
       "    <tr>\n",
       "      <th>3</th>\n",
       "      <td>155</td>\n",
       "    </tr>\n",
       "    <tr>\n",
       "      <th>4</th>\n",
       "      <td>156</td>\n",
       "    </tr>\n",
       "    <tr>\n",
       "      <th>...</th>\n",
       "      <td>...</td>\n",
       "    </tr>\n",
       "    <tr>\n",
       "      <th>95</th>\n",
       "      <td>247</td>\n",
       "    </tr>\n",
       "    <tr>\n",
       "      <th>96</th>\n",
       "      <td>248</td>\n",
       "    </tr>\n",
       "    <tr>\n",
       "      <th>97</th>\n",
       "      <td>249</td>\n",
       "    </tr>\n",
       "    <tr>\n",
       "      <th>98</th>\n",
       "      <td>250</td>\n",
       "    </tr>\n",
       "    <tr>\n",
       "      <th>99</th>\n",
       "      <td>251</td>\n",
       "    </tr>\n",
       "  </tbody>\n",
       "</table>\n",
       "<p>100 rows × 1 columns</p>\n",
       "</div>"
      ],
      "text/plain": [
       "    id_pokemon\n",
       "0   152       \n",
       "1   153       \n",
       "2   154       \n",
       "3   155       \n",
       "4   156       \n",
       "..        ... \n",
       "95  247       \n",
       "96  248       \n",
       "97  249       \n",
       "98  250       \n",
       "99  251       \n",
       "\n",
       "[100 rows x 1 columns]"
      ]
     },
<<<<<<< Updated upstream
     "execution_count": 35,
=======
     "execution_count": 34,
>>>>>>> Stashed changes
     "metadata": {},
     "output_type": "execute_result"
    }
   ],
   "source": [
    "df_generation_2"
   ]
  },
  {
   "cell_type": "code",
<<<<<<< Updated upstream
   "execution_count": 36,
=======
   "execution_count": 35,
>>>>>>> Stashed changes
   "metadata": {},
   "outputs": [],
   "source": [
    "df_generation_2.to_sql(name='generation_2', con=mydb, if_exists = 'replace', index=False)"
   ]
  },
  {
   "cell_type": "code",
<<<<<<< Updated upstream
   "execution_count": 37,
=======
   "execution_count": 36,
>>>>>>> Stashed changes
   "metadata": {},
   "outputs": [],
   "source": [
    "rows = []\n",
    "nom_columns = ['id_pokemon']\n",
    "\n",
    "for i in range(252,387):\n",
    "    row = [i]\n",
    "    rows.append(row)\n",
    "\n",
    "df_generation_3 = pd.DataFrame(rows, columns=nom_columns)"
   ]
  },
  {
   "cell_type": "code",
<<<<<<< Updated upstream
   "execution_count": 38,
=======
   "execution_count": 37,
>>>>>>> Stashed changes
   "metadata": {},
   "outputs": [
    {
     "data": {
      "text/html": [
       "<div>\n",
       "<style scoped>\n",
       "    .dataframe tbody tr th:only-of-type {\n",
       "        vertical-align: middle;\n",
       "    }\n",
       "\n",
       "    .dataframe tbody tr th {\n",
       "        vertical-align: top;\n",
       "    }\n",
       "\n",
       "    .dataframe thead th {\n",
       "        text-align: right;\n",
       "    }\n",
       "</style>\n",
       "<table border=\"1\" class=\"dataframe\">\n",
       "  <thead>\n",
       "    <tr style=\"text-align: left;\">\n",
       "      <th></th>\n",
       "      <th>id_pokemon</th>\n",
       "    </tr>\n",
       "  </thead>\n",
       "  <tbody>\n",
       "    <tr>\n",
       "      <th>0</th>\n",
       "      <td>252</td>\n",
       "    </tr>\n",
       "    <tr>\n",
       "      <th>1</th>\n",
       "      <td>253</td>\n",
       "    </tr>\n",
       "    <tr>\n",
       "      <th>2</th>\n",
       "      <td>254</td>\n",
       "    </tr>\n",
       "    <tr>\n",
       "      <th>3</th>\n",
       "      <td>255</td>\n",
       "    </tr>\n",
       "    <tr>\n",
       "      <th>4</th>\n",
       "      <td>256</td>\n",
       "    </tr>\n",
       "    <tr>\n",
       "      <th>...</th>\n",
       "      <td>...</td>\n",
       "    </tr>\n",
       "    <tr>\n",
       "      <th>130</th>\n",
       "      <td>382</td>\n",
       "    </tr>\n",
       "    <tr>\n",
       "      <th>131</th>\n",
       "      <td>383</td>\n",
       "    </tr>\n",
       "    <tr>\n",
       "      <th>132</th>\n",
       "      <td>384</td>\n",
       "    </tr>\n",
       "    <tr>\n",
       "      <th>133</th>\n",
       "      <td>385</td>\n",
       "    </tr>\n",
       "    <tr>\n",
       "      <th>134</th>\n",
       "      <td>386</td>\n",
       "    </tr>\n",
       "  </tbody>\n",
       "</table>\n",
       "<p>135 rows × 1 columns</p>\n",
       "</div>"
      ],
      "text/plain": [
       "     id_pokemon\n",
       "0    252       \n",
       "1    253       \n",
       "2    254       \n",
       "3    255       \n",
       "4    256       \n",
       "..         ... \n",
       "130  382       \n",
       "131  383       \n",
       "132  384       \n",
       "133  385       \n",
       "134  386       \n",
       "\n",
       "[135 rows x 1 columns]"
      ]
     },
<<<<<<< Updated upstream
     "execution_count": 38,
=======
     "execution_count": 37,
>>>>>>> Stashed changes
     "metadata": {},
     "output_type": "execute_result"
    }
   ],
   "source": [
    "df_generation_3"
   ]
  },
  {
   "cell_type": "code",
<<<<<<< Updated upstream
   "execution_count": 39,
=======
   "execution_count": 38,
>>>>>>> Stashed changes
   "metadata": {},
   "outputs": [],
   "source": [
    "df_generation_3.to_sql(name='generation_3', con=mydb, if_exists = 'replace', index=False)"
   ]
  },
  {
   "cell_type": "code",
<<<<<<< Updated upstream
   "execution_count": 40,
=======
   "execution_count": 39,
>>>>>>> Stashed changes
   "metadata": {},
   "outputs": [],
   "source": [
    "rows = []\n",
    "nom_columns = ['id_pokemon']\n",
    "\n",
    "for i in range(387,494):\n",
    "    row = [i]\n",
    "    rows.append(row)\n",
    "\n",
    "df_generation_4 = pd.DataFrame(rows, columns=nom_columns)"
   ]
  },
  {
   "cell_type": "code",
<<<<<<< Updated upstream
   "execution_count": 41,
=======
   "execution_count": 40,
>>>>>>> Stashed changes
   "metadata": {},
   "outputs": [
    {
     "data": {
      "text/html": [
       "<div>\n",
       "<style scoped>\n",
       "    .dataframe tbody tr th:only-of-type {\n",
       "        vertical-align: middle;\n",
       "    }\n",
       "\n",
       "    .dataframe tbody tr th {\n",
       "        vertical-align: top;\n",
       "    }\n",
       "\n",
       "    .dataframe thead th {\n",
       "        text-align: right;\n",
       "    }\n",
       "</style>\n",
       "<table border=\"1\" class=\"dataframe\">\n",
       "  <thead>\n",
       "    <tr style=\"text-align: left;\">\n",
       "      <th></th>\n",
       "      <th>id_pokemon</th>\n",
       "    </tr>\n",
       "  </thead>\n",
       "  <tbody>\n",
       "    <tr>\n",
       "      <th>0</th>\n",
       "      <td>387</td>\n",
       "    </tr>\n",
       "    <tr>\n",
       "      <th>1</th>\n",
       "      <td>388</td>\n",
       "    </tr>\n",
       "    <tr>\n",
       "      <th>2</th>\n",
       "      <td>389</td>\n",
       "    </tr>\n",
       "    <tr>\n",
       "      <th>3</th>\n",
       "      <td>390</td>\n",
       "    </tr>\n",
       "    <tr>\n",
       "      <th>4</th>\n",
       "      <td>391</td>\n",
       "    </tr>\n",
       "    <tr>\n",
       "      <th>...</th>\n",
       "      <td>...</td>\n",
       "    </tr>\n",
       "    <tr>\n",
       "      <th>102</th>\n",
       "      <td>489</td>\n",
       "    </tr>\n",
       "    <tr>\n",
       "      <th>103</th>\n",
       "      <td>490</td>\n",
       "    </tr>\n",
       "    <tr>\n",
       "      <th>104</th>\n",
       "      <td>491</td>\n",
       "    </tr>\n",
       "    <tr>\n",
       "      <th>105</th>\n",
       "      <td>492</td>\n",
       "    </tr>\n",
       "    <tr>\n",
       "      <th>106</th>\n",
       "      <td>493</td>\n",
       "    </tr>\n",
       "  </tbody>\n",
       "</table>\n",
       "<p>107 rows × 1 columns</p>\n",
       "</div>"
      ],
      "text/plain": [
       "     id_pokemon\n",
       "0    387       \n",
       "1    388       \n",
       "2    389       \n",
       "3    390       \n",
       "4    391       \n",
       "..         ... \n",
       "102  489       \n",
       "103  490       \n",
       "104  491       \n",
       "105  492       \n",
       "106  493       \n",
       "\n",
       "[107 rows x 1 columns]"
      ]
     },
<<<<<<< Updated upstream
     "execution_count": 41,
=======
     "execution_count": 40,
>>>>>>> Stashed changes
     "metadata": {},
     "output_type": "execute_result"
    }
   ],
   "source": [
    "df_generation_4"
   ]
  },
  {
   "cell_type": "code",
<<<<<<< Updated upstream
   "execution_count": 42,
=======
   "execution_count": 41,
>>>>>>> Stashed changes
   "metadata": {},
   "outputs": [],
   "source": [
    "df_generation_4.to_sql(name='generation_4', con=mydb, if_exists = 'replace', index=False)"
   ]
  },
  {
   "cell_type": "code",
<<<<<<< Updated upstream
   "execution_count": 43,
=======
   "execution_count": 42,
>>>>>>> Stashed changes
   "metadata": {},
   "outputs": [],
   "source": [
    "rows = []\n",
    "nom_columns = ['id_pokemon']\n",
    "\n",
    "for i in range(494,650):\n",
    "    row = [i]\n",
    "    rows.append(row)\n",
    "\n",
    "df_generation_5 = pd.DataFrame(rows, columns=nom_columns)"
   ]
  },
  {
   "cell_type": "code",
<<<<<<< Updated upstream
   "execution_count": 44,
=======
   "execution_count": 43,
>>>>>>> Stashed changes
   "metadata": {},
   "outputs": [
    {
     "data": {
      "text/html": [
       "<div>\n",
       "<style scoped>\n",
       "    .dataframe tbody tr th:only-of-type {\n",
       "        vertical-align: middle;\n",
       "    }\n",
       "\n",
       "    .dataframe tbody tr th {\n",
       "        vertical-align: top;\n",
       "    }\n",
       "\n",
       "    .dataframe thead th {\n",
       "        text-align: right;\n",
       "    }\n",
       "</style>\n",
       "<table border=\"1\" class=\"dataframe\">\n",
       "  <thead>\n",
       "    <tr style=\"text-align: left;\">\n",
       "      <th></th>\n",
       "      <th>id_pokemon</th>\n",
       "    </tr>\n",
       "  </thead>\n",
       "  <tbody>\n",
       "    <tr>\n",
       "      <th>0</th>\n",
       "      <td>494</td>\n",
       "    </tr>\n",
       "    <tr>\n",
       "      <th>1</th>\n",
       "      <td>495</td>\n",
       "    </tr>\n",
       "    <tr>\n",
       "      <th>2</th>\n",
       "      <td>496</td>\n",
       "    </tr>\n",
       "    <tr>\n",
       "      <th>3</th>\n",
       "      <td>497</td>\n",
       "    </tr>\n",
       "    <tr>\n",
       "      <th>4</th>\n",
       "      <td>498</td>\n",
       "    </tr>\n",
       "    <tr>\n",
       "      <th>...</th>\n",
       "      <td>...</td>\n",
       "    </tr>\n",
       "    <tr>\n",
       "      <th>151</th>\n",
       "      <td>645</td>\n",
       "    </tr>\n",
       "    <tr>\n",
       "      <th>152</th>\n",
       "      <td>646</td>\n",
       "    </tr>\n",
       "    <tr>\n",
       "      <th>153</th>\n",
       "      <td>647</td>\n",
       "    </tr>\n",
       "    <tr>\n",
       "      <th>154</th>\n",
       "      <td>648</td>\n",
       "    </tr>\n",
       "    <tr>\n",
       "      <th>155</th>\n",
       "      <td>649</td>\n",
       "    </tr>\n",
       "  </tbody>\n",
       "</table>\n",
       "<p>156 rows × 1 columns</p>\n",
       "</div>"
      ],
      "text/plain": [
       "     id_pokemon\n",
       "0    494       \n",
       "1    495       \n",
       "2    496       \n",
       "3    497       \n",
       "4    498       \n",
       "..         ... \n",
       "151  645       \n",
       "152  646       \n",
       "153  647       \n",
       "154  648       \n",
       "155  649       \n",
       "\n",
       "[156 rows x 1 columns]"
      ]
     },
<<<<<<< Updated upstream
     "execution_count": 44,
=======
     "execution_count": 43,
>>>>>>> Stashed changes
     "metadata": {},
     "output_type": "execute_result"
    }
   ],
   "source": [
    "df_generation_5"
   ]
  },
  {
   "cell_type": "code",
<<<<<<< Updated upstream
   "execution_count": 45,
=======
   "execution_count": 44,
>>>>>>> Stashed changes
   "metadata": {},
   "outputs": [],
   "source": [
    "df_generation_5.to_sql(name='generation_5', con=mydb, if_exists = 'replace', index=False)"
   ]
  },
  {
   "cell_type": "code",
<<<<<<< Updated upstream
   "execution_count": 46,
=======
   "execution_count": 45,
>>>>>>> Stashed changes
   "metadata": {},
   "outputs": [],
   "source": [
    "rows = []\n",
    "nom_columns = ['id_pokemon']\n",
    "\n",
    "for i in range(650,722):\n",
    "    row = [i]\n",
    "    rows.append(row)\n",
    "\n",
    "df_generation_6 = pd.DataFrame(rows, columns=nom_columns)"
   ]
  },
  {
   "cell_type": "code",
<<<<<<< Updated upstream
   "execution_count": 47,
=======
   "execution_count": 46,
>>>>>>> Stashed changes
   "metadata": {},
   "outputs": [
    {
     "data": {
      "text/html": [
       "<div>\n",
       "<style scoped>\n",
       "    .dataframe tbody tr th:only-of-type {\n",
       "        vertical-align: middle;\n",
       "    }\n",
       "\n",
       "    .dataframe tbody tr th {\n",
       "        vertical-align: top;\n",
       "    }\n",
       "\n",
       "    .dataframe thead th {\n",
       "        text-align: right;\n",
       "    }\n",
       "</style>\n",
       "<table border=\"1\" class=\"dataframe\">\n",
       "  <thead>\n",
       "    <tr style=\"text-align: left;\">\n",
       "      <th></th>\n",
       "      <th>id_pokemon</th>\n",
       "    </tr>\n",
       "  </thead>\n",
       "  <tbody>\n",
       "    <tr>\n",
       "      <th>0</th>\n",
       "      <td>650</td>\n",
       "    </tr>\n",
       "    <tr>\n",
       "      <th>1</th>\n",
       "      <td>651</td>\n",
       "    </tr>\n",
       "    <tr>\n",
       "      <th>2</th>\n",
       "      <td>652</td>\n",
       "    </tr>\n",
       "    <tr>\n",
       "      <th>3</th>\n",
       "      <td>653</td>\n",
       "    </tr>\n",
       "    <tr>\n",
       "      <th>4</th>\n",
       "      <td>654</td>\n",
       "    </tr>\n",
       "    <tr>\n",
       "      <th>...</th>\n",
       "      <td>...</td>\n",
       "    </tr>\n",
       "    <tr>\n",
       "      <th>67</th>\n",
       "      <td>717</td>\n",
       "    </tr>\n",
       "    <tr>\n",
       "      <th>68</th>\n",
       "      <td>718</td>\n",
       "    </tr>\n",
       "    <tr>\n",
       "      <th>69</th>\n",
       "      <td>719</td>\n",
       "    </tr>\n",
       "    <tr>\n",
       "      <th>70</th>\n",
       "      <td>720</td>\n",
       "    </tr>\n",
       "    <tr>\n",
       "      <th>71</th>\n",
       "      <td>721</td>\n",
       "    </tr>\n",
       "  </tbody>\n",
       "</table>\n",
       "<p>72 rows × 1 columns</p>\n",
       "</div>"
      ],
      "text/plain": [
       "    id_pokemon\n",
       "0   650       \n",
       "1   651       \n",
       "2   652       \n",
       "3   653       \n",
       "4   654       \n",
       "..        ... \n",
       "67  717       \n",
       "68  718       \n",
       "69  719       \n",
       "70  720       \n",
       "71  721       \n",
       "\n",
       "[72 rows x 1 columns]"
      ]
     },
<<<<<<< Updated upstream
     "execution_count": 47,
=======
     "execution_count": 46,
>>>>>>> Stashed changes
     "metadata": {},
     "output_type": "execute_result"
    }
   ],
   "source": [
    "df_generation_6"
   ]
  },
  {
   "cell_type": "code",
<<<<<<< Updated upstream
   "execution_count": 48,
=======
   "execution_count": 47,
>>>>>>> Stashed changes
   "metadata": {},
   "outputs": [],
   "source": [
    "df_generation_6.to_sql(name='generation_6', con=mydb, if_exists = 'replace', index=False)"
   ]
  },
  {
   "cell_type": "code",
<<<<<<< Updated upstream
   "execution_count": 49,
=======
   "execution_count": 48,
>>>>>>> Stashed changes
   "metadata": {},
   "outputs": [],
   "source": [
    "rows = []\n",
    "nom_columns = ['id_pokemon']\n",
    "\n",
    "for i in range(722,802):\n",
    "    row = [i]\n",
    "    rows.append(row)\n",
    "\n",
    "df_generation_7 = pd.DataFrame(rows, columns=nom_columns)"
   ]
  },
  {
   "cell_type": "code",
<<<<<<< Updated upstream
   "execution_count": 50,
=======
   "execution_count": 49,
>>>>>>> Stashed changes
   "metadata": {},
   "outputs": [
    {
     "data": {
      "text/html": [
       "<div>\n",
       "<style scoped>\n",
       "    .dataframe tbody tr th:only-of-type {\n",
       "        vertical-align: middle;\n",
       "    }\n",
       "\n",
       "    .dataframe tbody tr th {\n",
       "        vertical-align: top;\n",
       "    }\n",
       "\n",
       "    .dataframe thead th {\n",
       "        text-align: right;\n",
       "    }\n",
       "</style>\n",
       "<table border=\"1\" class=\"dataframe\">\n",
       "  <thead>\n",
       "    <tr style=\"text-align: left;\">\n",
       "      <th></th>\n",
       "      <th>id_pokemon</th>\n",
       "    </tr>\n",
       "  </thead>\n",
       "  <tbody>\n",
       "    <tr>\n",
       "      <th>0</th>\n",
       "      <td>722</td>\n",
       "    </tr>\n",
       "    <tr>\n",
       "      <th>1</th>\n",
       "      <td>723</td>\n",
       "    </tr>\n",
       "    <tr>\n",
       "      <th>2</th>\n",
       "      <td>724</td>\n",
       "    </tr>\n",
       "    <tr>\n",
       "      <th>3</th>\n",
       "      <td>725</td>\n",
       "    </tr>\n",
       "    <tr>\n",
       "      <th>4</th>\n",
       "      <td>726</td>\n",
       "    </tr>\n",
       "    <tr>\n",
       "      <th>...</th>\n",
       "      <td>...</td>\n",
       "    </tr>\n",
       "    <tr>\n",
       "      <th>75</th>\n",
       "      <td>797</td>\n",
       "    </tr>\n",
       "    <tr>\n",
       "      <th>76</th>\n",
       "      <td>798</td>\n",
       "    </tr>\n",
       "    <tr>\n",
       "      <th>77</th>\n",
       "      <td>799</td>\n",
       "    </tr>\n",
       "    <tr>\n",
       "      <th>78</th>\n",
       "      <td>800</td>\n",
       "    </tr>\n",
       "    <tr>\n",
       "      <th>79</th>\n",
       "      <td>801</td>\n",
       "    </tr>\n",
       "  </tbody>\n",
       "</table>\n",
       "<p>80 rows × 1 columns</p>\n",
       "</div>"
      ],
      "text/plain": [
       "    id_pokemon\n",
       "0   722       \n",
       "1   723       \n",
       "2   724       \n",
       "3   725       \n",
       "4   726       \n",
       "..        ... \n",
       "75  797       \n",
       "76  798       \n",
       "77  799       \n",
       "78  800       \n",
       "79  801       \n",
       "\n",
       "[80 rows x 1 columns]"
      ]
     },
<<<<<<< Updated upstream
     "execution_count": 50,
=======
     "execution_count": 49,
>>>>>>> Stashed changes
     "metadata": {},
     "output_type": "execute_result"
    }
   ],
   "source": [
    "df_generation_7"
   ]
  },
  {
   "cell_type": "code",
<<<<<<< Updated upstream
   "execution_count": 51,
=======
   "execution_count": 50,
>>>>>>> Stashed changes
   "metadata": {},
   "outputs": [],
   "source": [
    "df_generation_7.to_sql(name='generation_7', con=mydb, if_exists = 'replace', index=False)"
   ]
  },
  {
   "cell_type": "markdown",
   "metadata": {},
   "source": [
    "# Creation de la table utilisateur/player"
   ]
  },
  {
   "cell_type": "code",
<<<<<<< Updated upstream
   "execution_count": null,
=======
   "execution_count": 51,
>>>>>>> Stashed changes
   "metadata": {},
   "outputs": [],
   "source": [
    "#code à faire"
   ]
  },
  {
   "cell_type": "markdown",
   "metadata": {},
   "source": [
    "# Creation de la table type pokemon + nom du type"
   ]
  },
  {
   "cell_type": "code",
   "execution_count": 119,
   "metadata": {},
   "outputs": [],
   "source": [
    "#code à faire"
   ]
  },
  {
   "cell_type": "markdown",
   "metadata": {},
   "source": [
    "# Requetes demander pour la dataViz"
   ]
  },
  {
   "cell_type": "code",
<<<<<<< Updated upstream
   "execution_count": 28,
=======
   "execution_count": 52,
>>>>>>> Stashed changes
   "metadata": {},
   "outputs": [],
   "source": [
    "pokemon_max_attaque = pd.read_sql('select nom_pokemon,attaque_de_base from pokemons where attaque_de_base = (select max(attaque_de_base)from pokemons)', mydb)"
   ]
  },
  {
   "cell_type": "code",
<<<<<<< Updated upstream
   "execution_count": 29,
=======
   "execution_count": 53,
>>>>>>> Stashed changes
   "metadata": {},
   "outputs": [
    {
     "data": {
      "text/html": [
       "<div>\n",
       "<style scoped>\n",
       "    .dataframe tbody tr th:only-of-type {\n",
       "        vertical-align: middle;\n",
       "    }\n",
       "\n",
       "    .dataframe tbody tr th {\n",
       "        vertical-align: top;\n",
       "    }\n",
       "\n",
       "    .dataframe thead th {\n",
       "        text-align: right;\n",
       "    }\n",
       "</style>\n",
       "<table border=\"1\" class=\"dataframe\">\n",
       "  <thead>\n",
       "    <tr style=\"text-align: left;\">\n",
       "      <th></th>\n",
       "      <th>nom_pokemon</th>\n",
       "      <th>attaque_de_base</th>\n",
       "    </tr>\n",
       "  </thead>\n",
       "  <tbody>\n",
       "    <tr>\n",
       "      <th>0</th>\n",
       "      <td>Katagami</td>\n",
       "      <td>181</td>\n",
       "    </tr>\n",
       "  </tbody>\n",
       "</table>\n",
       "</div>"
      ],
      "text/plain": [
       "  nom_pokemon  attaque_de_base\n",
       "0  Katagami    181            "
      ]
     },
<<<<<<< Updated upstream
     "execution_count": 29,
=======
     "execution_count": 53,
>>>>>>> Stashed changes
     "metadata": {},
     "output_type": "execute_result"
    }
   ],
   "source": [
    "pokemon_max_attaque"
   ]
  },
  {
   "cell_type": "code",
<<<<<<< Updated upstream
   "execution_count": 30,
=======
   "execution_count": 54,
>>>>>>> Stashed changes
   "metadata": {},
   "outputs": [],
   "source": [
    "pokemon_min_attaque = pd.read_sql('select nom_pokemon,attaque_de_base from pokemons where attaque_de_base = (select min(attaque_de_base)from pokemons)', mydb)"
   ]
  },
  {
   "cell_type": "code",
<<<<<<< Updated upstream
   "execution_count": 31,
=======
   "execution_count": 55,
>>>>>>> Stashed changes
   "metadata": {},
   "outputs": [
    {
     "data": {
      "text/html": [
       "<div>\n",
       "<style scoped>\n",
       "    .dataframe tbody tr th:only-of-type {\n",
       "        vertical-align: middle;\n",
       "    }\n",
       "\n",
       "    .dataframe tbody tr th {\n",
       "        vertical-align: top;\n",
       "    }\n",
       "\n",
       "    .dataframe thead th {\n",
       "        text-align: right;\n",
       "    }\n",
       "</style>\n",
       "<table border=\"1\" class=\"dataframe\">\n",
       "  <thead>\n",
       "    <tr style=\"text-align: left;\">\n",
       "      <th></th>\n",
       "      <th>nom_pokemon</th>\n",
       "      <th>attaque_de_base</th>\n",
       "    </tr>\n",
       "  </thead>\n",
       "  <tbody>\n",
       "    <tr>\n",
       "      <th>0</th>\n",
       "      <td>Ptiravi</td>\n",
       "      <td>5</td>\n",
       "    </tr>\n",
       "    <tr>\n",
       "      <th>1</th>\n",
       "      <td>Leveinard</td>\n",
       "      <td>5</td>\n",
       "    </tr>\n",
       "  </tbody>\n",
       "</table>\n",
       "</div>"
      ],
      "text/plain": [
       "  nom_pokemon  attaque_de_base\n",
       "0    Ptiravi   5              \n",
       "1  Leveinard   5              "
      ]
     },
<<<<<<< Updated upstream
     "execution_count": 31,
=======
     "execution_count": 55,
>>>>>>> Stashed changes
     "metadata": {},
     "output_type": "execute_result"
    }
   ],
   "source": [
    "pokemon_min_attaque"
   ]
  },
  {
   "cell_type": "code",
<<<<<<< Updated upstream
   "execution_count": 32,
=======
   "execution_count": 56,
>>>>>>> Stashed changes
   "metadata": {},
   "outputs": [],
   "source": [
    "dataviz = pd.concat([pokemon_max_attaque, pokemon_min_attaque], ignore_index=True)"
   ]
  },
  {
   "cell_type": "code",
<<<<<<< Updated upstream
   "execution_count": 33,
=======
   "execution_count": 57,
>>>>>>> Stashed changes
   "metadata": {},
   "outputs": [
    {
     "data": {
      "text/html": [
       "<div>\n",
       "<style scoped>\n",
       "    .dataframe tbody tr th:only-of-type {\n",
       "        vertical-align: middle;\n",
       "    }\n",
       "\n",
       "    .dataframe tbody tr th {\n",
       "        vertical-align: top;\n",
       "    }\n",
       "\n",
       "    .dataframe thead th {\n",
       "        text-align: right;\n",
       "    }\n",
       "</style>\n",
       "<table border=\"1\" class=\"dataframe\">\n",
       "  <thead>\n",
       "    <tr style=\"text-align: left;\">\n",
       "      <th></th>\n",
       "      <th>nom_pokemon</th>\n",
       "      <th>attaque_de_base</th>\n",
       "    </tr>\n",
       "  </thead>\n",
       "  <tbody>\n",
       "    <tr>\n",
       "      <th>0</th>\n",
       "      <td>Katagami</td>\n",
       "      <td>181</td>\n",
       "    </tr>\n",
       "    <tr>\n",
       "      <th>1</th>\n",
       "      <td>Ptiravi</td>\n",
       "      <td>5</td>\n",
       "    </tr>\n",
       "    <tr>\n",
       "      <th>2</th>\n",
       "      <td>Leveinard</td>\n",
       "      <td>5</td>\n",
       "    </tr>\n",
       "  </tbody>\n",
       "</table>\n",
       "</div>"
      ],
      "text/plain": [
       "  nom_pokemon  attaque_de_base\n",
       "0   Katagami   181            \n",
       "1    Ptiravi     5            \n",
       "2  Leveinard     5            "
      ]
     },
<<<<<<< Updated upstream
     "execution_count": 33,
=======
     "execution_count": 57,
>>>>>>> Stashed changes
     "metadata": {},
     "output_type": "execute_result"
    }
   ],
   "source": [
    "dataviz"
   ]
  },
  {
   "cell_type": "code",
<<<<<<< Updated upstream
   "execution_count": 76,
=======
   "execution_count": 58,
>>>>>>> Stashed changes
   "metadata": {},
   "outputs": [
    {
     "name": "stderr",
     "output_type": "stream",
     "text": [
<<<<<<< Updated upstream
      "C:\\Users\\Administrateur\\Anaconda3\\lib\\site-packages\\ipykernel_launcher.py:1: FutureWarning: '.reindex_axis' is deprecated and will be removed in a future version. Use '.reindex' instead.\n",
=======
      "C:\\Users\\Administrateur\\Miniconda3\\lib\\site-packages\\ipykernel_launcher.py:1: FutureWarning: '.reindex_axis' is deprecated and will be removed in a future version. Use '.reindex' instead.\n",
>>>>>>> Stashed changes
      "  \"\"\"Entry point for launching an IPython kernel.\n"
     ]
    }
   ],
   "source": [
    "dataviz2 = dataviz.reindex_axis(['attaque_de_base','nom_pokemon'], axis=1)"
   ]
  },
  {
   "cell_type": "code",
<<<<<<< Updated upstream
   "execution_count": 77,
=======
   "execution_count": 59,
>>>>>>> Stashed changes
   "metadata": {},
   "outputs": [
    {
     "data": {
      "text/html": [
       "<div>\n",
       "<style scoped>\n",
       "    .dataframe tbody tr th:only-of-type {\n",
       "        vertical-align: middle;\n",
       "    }\n",
       "\n",
       "    .dataframe tbody tr th {\n",
       "        vertical-align: top;\n",
       "    }\n",
       "\n",
       "    .dataframe thead th {\n",
       "        text-align: right;\n",
       "    }\n",
       "</style>\n",
       "<table border=\"1\" class=\"dataframe\">\n",
       "  <thead>\n",
       "    <tr style=\"text-align: left;\">\n",
       "      <th></th>\n",
       "      <th>attaque_de_base</th>\n",
       "      <th>nom_pokemon</th>\n",
       "    </tr>\n",
       "  </thead>\n",
       "  <tbody>\n",
       "    <tr>\n",
       "      <th>0</th>\n",
       "      <td>181</td>\n",
       "      <td>Katagami</td>\n",
       "    </tr>\n",
       "    <tr>\n",
       "      <th>1</th>\n",
       "      <td>5</td>\n",
       "      <td>Ptiravi</td>\n",
       "    </tr>\n",
       "    <tr>\n",
       "      <th>2</th>\n",
       "      <td>5</td>\n",
       "      <td>Leveinard</td>\n",
       "    </tr>\n",
       "  </tbody>\n",
       "</table>\n",
       "</div>"
      ],
      "text/plain": [
       "   attaque_de_base nom_pokemon\n",
       "0  181               Katagami \n",
       "1    5                Ptiravi \n",
       "2    5              Leveinard "
      ]
     },
<<<<<<< Updated upstream
     "execution_count": 77,
=======
     "execution_count": 59,
>>>>>>> Stashed changes
     "metadata": {},
     "output_type": "execute_result"
    }
   ],
   "source": [
    "dataviz2"
   ]
  },
  {
   "cell_type": "markdown",
   "metadata": {},
   "source": [
    "# Visualisation DataViz"
   ]
  },
  {
   "cell_type": "code",
<<<<<<< Updated upstream
   "execution_count": 85,
=======
   "execution_count": 62,
>>>>>>> Stashed changes
   "metadata": {},
   "outputs": [
    {
     "name": "stderr",
     "output_type": "stream",
     "text": [
<<<<<<< Updated upstream
      "C:\\Users\\Administrateur\\Anaconda3\\lib\\site-packages\\ggplot\\utils.py:81: FutureWarning: pandas.tslib is deprecated and will be removed in a future version.\n",
      "You can access Timestamp as pandas.Timestamp\n",
      "  pd.tslib.Timestamp,\n",
      "C:\\Users\\Administrateur\\Anaconda3\\lib\\site-packages\\ggplot\\stats\\smoothers.py:4: FutureWarning: The pandas.lib module is deprecated and will be removed in a future version. These are private functions and can be accessed from pandas._libs.lib instead\n",
      "  from pandas.lib import Timestamp\n",
      "C:\\Users\\Administrateur\\Anaconda3\\lib\\site-packages\\statsmodels\\compat\\pandas.py:56: FutureWarning: The pandas.core.datetools module is deprecated and will be removed in a future version. Please use the pandas.tseries module instead.\n",
=======
      "C:\\Users\\Administrateur\\Miniconda3\\lib\\site-packages\\ggplot\\utils.py:81: FutureWarning: pandas.tslib is deprecated and will be removed in a future version.\n",
      "You can access Timestamp as pandas.Timestamp\n",
      "  pd.tslib.Timestamp,\n",
      "C:\\Users\\Administrateur\\Miniconda3\\lib\\site-packages\\ggplot\\stats\\smoothers.py:4: FutureWarning: The pandas.lib module is deprecated and will be removed in a future version. These are private functions and can be accessed from pandas._libs.lib instead\n",
      "  from pandas.lib import Timestamp\n",
      "C:\\Users\\Administrateur\\Miniconda3\\lib\\site-packages\\statsmodels\\compat\\pandas.py:56: FutureWarning: The pandas.core.datetools module is deprecated and will be removed in a future version. Please use the pandas.tseries module instead.\n",
>>>>>>> Stashed changes
      "  from pandas.core import datetools\n"
     ]
    }
   ],
   "source": [
    "from ggplot import *"
   ]
  },
  {
   "cell_type": "markdown",
   "metadata": {},
   "source": [
    "# Pokemon le plus puissant en attaque toute génération confondues (resp. le moins puissant)"
   ]
  },
  {
   "cell_type": "code",
<<<<<<< Updated upstream
   "execution_count": 86,
=======
   "execution_count": 63,
>>>>>>> Stashed changes
   "metadata": {},
   "outputs": [],
   "source": [
    "poke_attaque = ggplot(aes(x='nom_pokemon',y='attaque_de_base'),data=dataviz) +\\\n",
    "geom_point(size = 30, color='black') +\\\n",
    "xlab(\"Pokemon\") +\\\n",
    "ylab(\"Puissance d'Attaque\") +\\\n",
    "ggtitle(\"Attaque Max et Min de pokemons toutes générations comprises\") +\\\n",
    "geom_line() +\\\n",
    "geom_line(aes(x='nom_pokemon', y = 'attaque_de_base', colour=\"red\")) +\\\n",
    "theme(plot_margin=dict(bottom=0.2, left=0.2))"
   ]
  },
  {
   "cell_type": "code",
   "execution_count": 87,
   "metadata": {},
   "outputs": [
    {
     "data": {
      "image/png": "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\n",
      "text/plain": [
       "<matplotlib.figure.Figure at 0x27300651908>"
      ]
     },
     "metadata": {},
     "output_type": "display_data"
    },
    {
     "data": {
      "text/plain": [
       "<ggplot: (-9223371868542437155)>"
      ]
     },
     "execution_count": 87,
     "metadata": {},
     "output_type": "execute_result"
    }
   ],
   "source": [
    "poke_attaque"
   ]
  },
  {
   "cell_type": "markdown",
   "metadata": {},
   "source": [
    "# Comparaison de pokemon par l'utilisateur via leur noms"
   ]
  },
  {
   "cell_type": "code",
<<<<<<< Updated upstream
   "execution_count": 72,
=======
   "execution_count": 90,
>>>>>>> Stashed changes
   "metadata": {},
   "outputs": [
    {
     "name": "stdout",
     "output_type": "stream",
     "text": [
      "Veuillez entre le nom du 1er pokemon\n",
<<<<<<< Updated upstream
      "Katagami\n",
      "Veuillez entre le nom du 2ème pokemon\n",
      "Ptiravi\n"
=======
      "Pikachu\n",
      "Veuillez entre le nom du 2ème pokemon\n",
      "Abra\n"
>>>>>>> Stashed changes
     ]
    },
    {
     "data": {
      "text/html": [
       "<div>\n",
       "<style scoped>\n",
       "    .dataframe tbody tr th:only-of-type {\n",
       "        vertical-align: middle;\n",
       "    }\n",
       "\n",
       "    .dataframe tbody tr th {\n",
       "        vertical-align: top;\n",
       "    }\n",
       "\n",
       "    .dataframe thead th {\n",
       "        text-align: right;\n",
       "    }\n",
       "</style>\n",
       "<table border=\"1\" class=\"dataframe\">\n",
       "  <thead>\n",
       "    <tr style=\"text-align: left;\">\n",
       "      <th></th>\n",
       "      <th>id_pokemon</th>\n",
       "      <th>nom_pokemon</th>\n",
       "      <th>taille</th>\n",
       "      <th>poids</th>\n",
       "      <th>points_de_vie_de_base</th>\n",
       "      <th>attaque_de_base</th>\n",
       "      <th>défense_de_base</th>\n",
       "      <th>attaque_spéciale_de_base</th>\n",
       "      <th>défense_spéciale_de_base</th>\n",
       "      <th>vitesse_de_base</th>\n",
       "      <th>type_pokemon</th>\n",
       "    </tr>\n",
       "  </thead>\n",
       "  <tbody>\n",
       "    <tr>\n",
       "      <th>0</th>\n",
<<<<<<< Updated upstream
       "      <td>798</td>\n",
       "      <td>Katagami</td>\n",
       "      <td>0.3</td>\n",
       "      <td>0.1</td>\n",
       "      <td>59</td>\n",
       "      <td>181</td>\n",
       "      <td>131</td>\n",
       "      <td>59</td>\n",
       "      <td>31</td>\n",
       "      <td>109</td>\n",
       "      <td>9</td>\n",
       "    </tr>\n",
       "    <tr>\n",
       "      <th>1</th>\n",
       "      <td>440</td>\n",
       "      <td>Ptiravi</td>\n",
       "      <td>0.6</td>\n",
       "      <td>24.4</td>\n",
       "      <td>100</td>\n",
       "      <td>5</td>\n",
       "      <td>5</td>\n",
       "      <td>15</td>\n",
       "      <td>65</td>\n",
       "      <td>30</td>\n",
       "      <td>1</td>\n",
=======
       "      <td>25</td>\n",
       "      <td>Pikachu</td>\n",
       "      <td>0.4</td>\n",
       "      <td>6</td>\n",
       "      <td>35</td>\n",
       "      <td>55</td>\n",
       "      <td>40</td>\n",
       "      <td>50</td>\n",
       "      <td>50</td>\n",
       "      <td>90</td>\n",
       "      <td>13</td>\n",
       "    </tr>\n",
       "    <tr>\n",
       "      <th>1</th>\n",
       "      <td>63</td>\n",
       "      <td>Abra</td>\n",
       "      <td>0.9</td>\n",
       "      <td>19.5</td>\n",
       "      <td>25</td>\n",
       "      <td>20</td>\n",
       "      <td>15</td>\n",
       "      <td>105</td>\n",
       "      <td>55</td>\n",
       "      <td>90</td>\n",
       "      <td>14</td>\n",
>>>>>>> Stashed changes
       "    </tr>\n",
       "  </tbody>\n",
       "</table>\n",
       "</div>"
      ],
      "text/plain": [
       "  id_pokemon nom_pokemon taille poids   points_de_vie_de_base  attaque_de_base  défense_de_base  attaque_spéciale_de_base  défense_spéciale_de_base  vitesse_de_base  type_pokemon\n",
<<<<<<< Updated upstream
       "0  798        Katagami    0.3     0.1    59                    181              131              59                        31                        109              9           \n",
       "1  440         Ptiravi    0.6    24.4   100                      5                5              15                        65                         30              1           "
      ]
     },
     "execution_count": 72,
=======
       "0  25         Pikachu     0.4       6   35                     55               40                50                       50                        90               13          \n",
       "1  63            Abra     0.9    19.5   25                     20               15               105                       55                        90               14          "
      ]
     },
     "execution_count": 90,
>>>>>>> Stashed changes
     "metadata": {},
     "output_type": "execute_result"
    }
   ],
   "source": [
    "print('Veuillez entre le nom du 1er pokemon')\n",
    "premier_pokemon=input()\n",
<<<<<<< Updated upstream
    "pokemon1 = pd.read_sql('select * from pokemons where nom_pokemon=%(premier_pokemon)s', mydb,params={'premier_pokemon':premier_pokemon})\n",
    "# pokemon1\n",
    "print('Veuillez entre le nom du 2ème pokemon')\n",
    "deuxieme_pokemon=input()\n",
    "pokemon2 = pd.read_sql('select * from pokemons where nom_pokemon=%(deuxieme_pokemon)s', mydb,params={'deuxieme_pokemon':deuxieme_pokemon})\n",
=======
    "pokemon1 = pd.read_sql('select * from pokemons where nom_pokemon=%(premier_pokemon)s', mydb, params={'premier_pokemon':premier_pokemon})\n",
    "# pokemon1\n",
    "print('Veuillez entre le nom du 2ème pokemon')\n",
    "deuxieme_pokemon=input()\n",
    "pokemon2 = pd.read_sql('select * from pokemons where nom_pokemon=%(deuxieme_pokemon)s', mydb, params={'deuxieme_pokemon':deuxieme_pokemon})\n",
>>>>>>> Stashed changes
    "# pokemon2\n",
    "compa_pokemon = pd.concat([pokemon1, pokemon2], ignore_index=True)\n",
    "compa_pokemon"
   ]
  },
  {
   "cell_type": "code",
<<<<<<< Updated upstream
   "execution_count": 80,
   "metadata": {},
   "outputs": [],
   "source": [
    "compa_pokemon=compa_pokemon.set_index('nom_pokemon')"
=======
   "execution_count": 151,
   "metadata": {},
   "outputs": [],
   "source": [
    "take_max=compa_pokemon[['points_de_vie_de_base','attaque_de_base','défense_de_base','attaque_spéciale_de_base','défense_spéciale_de_base']].max().max()"
>>>>>>> Stashed changes
   ]
  },
  {
   "cell_type": "code",
<<<<<<< Updated upstream
   "execution_count": 99,
=======
   "execution_count": 152,
>>>>>>> Stashed changes
   "metadata": {},
   "outputs": [
    {
     "data": {
      "text/plain": [
<<<<<<< Updated upstream
       "<matplotlib.legend.Legend at 0x27303a0deb8>"
      ]
     },
     "execution_count": 99,
     "metadata": {},
     "output_type": "execute_result"
    },
    {
     "data": {
      "image/png": "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\n",
      "text/plain": [
       "<matplotlib.figure.Figure at 0x27303a0dcf8>"
=======
       "105"
      ]
     },
     "execution_count": 152,
     "metadata": {},
     "output_type": "execute_result"
    }
   ],
   "source": [
    "take_max"
   ]
  },
  {
   "cell_type": "code",
   "execution_count": 168,
   "metadata": {},
   "outputs": [
    {
     "data": {
      "text/html": [
       "<script>requirejs.config({paths: { 'plotly': ['https://cdn.plot.ly/plotly-latest.min']},});if(!window.Plotly) {{require(['plotly'],function(plotly) {window.Plotly=plotly;});}}</script>"
      ],
      "text/vnd.plotly.v1+html": [
       "<script>requirejs.config({paths: { 'plotly': ['https://cdn.plot.ly/plotly-latest.min']},});if(!window.Plotly) {{require(['plotly'],function(plotly) {window.Plotly=plotly;});}}</script>"
      ]
     },
     "metadata": {},
     "output_type": "display_data"
    },
    {
     "data": {
      "application/vnd.plotly.v1+json": {
       "data": [
        {
         "name": "Pikachu",
         "r": [
          "0.4 ",
          "6 ",
          35,
          55,
          50,
          90
         ],
         "theta": [
          "taille",
          "poids",
          "points_de_vie",
          "att_base",
          "att_sp",
          "vit_att"
         ],
         "type": "scatterpolar",
         "uid": "c183dff6-940b-11e8-b717-60d819f56aed"
        },
        {
         "name": "Abra",
         "r": [
          "0.9 ",
          "19.5 ",
          25,
          20,
          105,
          90
         ],
         "theta": [
          "taille",
          "poids",
          "points_de_vie",
          "att_base",
          "att_sp",
          "vit_att"
         ],
         "type": "scatterpolar",
         "uid": "c183dff7-940b-11e8-9244-60d819f56aed"
        }
       ],
       "layout": {
        "polar": {
         "radialaxis": {
          "range": [
           0,
           105
          ],
          "visible": true
         }
        },
        "showlegend": true
       }
      },
      "text/html": [
       "<div id=\"3b433a32-babe-4a90-93a9-9488e398c186\" style=\"height: 525px; width: 100%;\" class=\"plotly-graph-div\"></div><script type=\"text/javascript\">require([\"plotly\"], function(Plotly) { window.PLOTLYENV=window.PLOTLYENV || {};window.PLOTLYENV.BASE_URL=\"https://plot.ly\";\n",
       "        Plotly.plot(\n",
       "            '3b433a32-babe-4a90-93a9-9488e398c186',\n",
       "            [{\"name\": \"Pikachu\", \"r\": [\"0.4 \", \"6 \", 35, 55, 50, 90], \"theta\": [\"taille\", \"poids\", \"points_de_vie\", \"att_base\", \"att_sp\", \"vit_att\"], \"type\": \"scatterpolar\", \"uid\": \"c183dff6-940b-11e8-b717-60d819f56aed\"}, {\"name\": \"Abra\", \"r\": [\"0.9 \", \"19.5 \", 25, 20, 105, 90], \"theta\": [\"taille\", \"poids\", \"points_de_vie\", \"att_base\", \"att_sp\", \"vit_att\"], \"type\": \"scatterpolar\", \"uid\": \"c183dff7-940b-11e8-9244-60d819f56aed\"}],\n",
       "            {\"polar\": {\"radialaxis\": {\"range\": [0, 105], \"visible\": true}}, \"showlegend\": true},\n",
       "            {\"showLink\": true, \"linkText\": \"Export to plot.ly\"}\n",
       "        ).then(function () {return Plotly.addFrames('3b433a32-babe-4a90-93a9-9488e398c186',{});}).then(function(){Plotly.animate('3b433a32-babe-4a90-93a9-9488e398c186');})\n",
       "        });</script>"
      ],
      "text/vnd.plotly.v1+html": [
       "<div id=\"3b433a32-babe-4a90-93a9-9488e398c186\" style=\"height: 525px; width: 100%;\" class=\"plotly-graph-div\"></div><script type=\"text/javascript\">require([\"plotly\"], function(Plotly) { window.PLOTLYENV=window.PLOTLYENV || {};window.PLOTLYENV.BASE_URL=\"https://plot.ly\";\n",
       "        Plotly.plot(\n",
       "            '3b433a32-babe-4a90-93a9-9488e398c186',\n",
       "            [{\"name\": \"Pikachu\", \"r\": [\"0.4 \", \"6 \", 35, 55, 50, 90], \"theta\": [\"taille\", \"poids\", \"points_de_vie\", \"att_base\", \"att_sp\", \"vit_att\"], \"type\": \"scatterpolar\", \"uid\": \"c183dff6-940b-11e8-b717-60d819f56aed\"}, {\"name\": \"Abra\", \"r\": [\"0.9 \", \"19.5 \", 25, 20, 105, 90], \"theta\": [\"taille\", \"poids\", \"points_de_vie\", \"att_base\", \"att_sp\", \"vit_att\"], \"type\": \"scatterpolar\", \"uid\": \"c183dff7-940b-11e8-9244-60d819f56aed\"}],\n",
       "            {\"polar\": {\"radialaxis\": {\"range\": [0, 105], \"visible\": true}}, \"showlegend\": true},\n",
       "            {\"showLink\": true, \"linkText\": \"Export to plot.ly\"}\n",
       "        ).then(function () {return Plotly.addFrames('3b433a32-babe-4a90-93a9-9488e398c186',{});}).then(function(){Plotly.animate('3b433a32-babe-4a90-93a9-9488e398c186');})\n",
       "        });</script>"
>>>>>>> Stashed changes
      ]
     },
     "metadata": {},
     "output_type": "display_data"
    }
   ],
   "source": [
<<<<<<< Updated upstream
    "test = compa_pokemon.plot(kind=\"bar\", title=\"Comparaison entre 2 pokemons\", rot=0)\n",
    "test.set_xlabel(\"Pokemons\")\n",
    "test.set_ylabel(\"Performance\")\n",
    "test.legend(bbox_to_anchor=(1, 1))"
=======
    "import plotly.plotly as py\n",
    "import plotly.graph_objs as go\n",
    "import plotly.tools\n",
    "from plotly.offline import download_plotlyjs, init_notebook_mode, plot, iplot\n",
    "\n",
    "\n",
    "plotly.tools.set_credentials_file(username='Mendoza_Miguel', api_key='fQ5ZcZYDYaYjCZz8r7El')\n",
    "\n",
    "plotly.offline.init_notebook_mode(connected=True) #iplot hors-ligne\n",
    "\n",
    "data = [go.Scatterpolar(\n",
    "    r = [compa_pokemon.taille[0], compa_pokemon.poids[0],compa_pokemon.points_de_vie_de_base[0], compa_pokemon.attaque_de_base[0], compa_pokemon.attaque_spéciale_de_base[0], compa_pokemon.vitesse_de_base[0]],\n",
    "    theta = ['taille','poids','points_de_vie', 'att_base', 'att_sp', 'vit_att'],\n",
    "#     fill = 'toself',\n",
    "    name = premier_pokemon\n",
    "),\n",
    "go.Scatterpolar(\n",
    "    r = [compa_pokemon.taille[1], compa_pokemon.poids[1],compa_pokemon.points_de_vie_de_base[1], compa_pokemon.attaque_de_base[1], compa_pokemon.attaque_spéciale_de_base[1], compa_pokemon.vitesse_de_base[1]],\n",
    "    theta = ['taille','poids','points_de_vie', 'att_base', 'att_sp', 'vit_att'],\n",
    "#     fill = 'toself',\n",
    "    name = deuxieme_pokemon\n",
    ")]\n",
    "\n",
    "layout = go.Layout(\n",
    "  polar = dict(\n",
    "    radialaxis = dict(\n",
    "      visible = True,\n",
    "      range = [0,take_max]\n",
    "    )\n",
    "  ),\n",
    "  showlegend = True\n",
    "    \n",
    ")\n",
    "fig = go.Figure(data=data, layout=layout)\n",
    "iplot(fig)"
>>>>>>> Stashed changes
   ]
  }
 ],
 "metadata": {
  "kernelspec": {
   "display_name": "Python 3",
   "language": "python",
   "name": "python3"
  },
  "language_info": {
   "codemirror_mode": {
    "name": "ipython",
    "version": 3
   },
   "file_extension": ".py",
   "mimetype": "text/x-python",
   "name": "python",
   "nbconvert_exporter": "python",
   "pygments_lexer": "ipython3",
   "version": "3.6.4"
  }
 },
 "nbformat": 4,
 "nbformat_minor": 2
}
